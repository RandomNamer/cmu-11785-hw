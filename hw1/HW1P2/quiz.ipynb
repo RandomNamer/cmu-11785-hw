{
 "cells": [
  {
   "cell_type": "code",
   "execution_count": 3,
   "metadata": {},
   "outputs": [
    {
     "data": {
      "text/plain": [
       "(3.5, -2.5)"
      ]
     },
     "execution_count": 3,
     "metadata": {},
     "output_type": "execute_result"
    }
   ],
   "source": [
    "import numpy as np\n",
    "\n",
    "# Re-defining the gradient function for the elevation equation\n",
    "def gradient(x, y):\n",
    "    \"\"\" Calculate the gradient of the elevation function at a point (x, y). \"\"\"\n",
    "    grad_x = 2*x + 20*np.pi*np.sin(2*np.pi*x)\n",
    "    grad_y = 2*y + 20*np.pi*np.sin(2*np.pi*y)\n",
    "    return np.array([grad_x, grad_y])\n",
    "\n",
    "# Initial position for the new scenario\n",
    "x, y = 3.1, -2.2\n",
    "\n",
    "# Learning rate\n",
    "alpha = 0.001\n",
    "\n",
    "# Number of steps\n",
    "steps = 100\n",
    "\n",
    "# Performing gradient ascent\n",
    "for _ in range(steps):\n",
    "    grad = gradient(x, y)\n",
    "    x += alpha * grad[0]\n",
    "    y += alpha * grad[1]\n",
    "\n",
    "# Truncating the final position\n",
    "final_position = (round(x, 1), round(y, 1))\n",
    "final_position"
   ]
  }
 ],
 "metadata": {
  "kernelspec": {
   "display_name": "11785",
   "language": "python",
   "name": "python3"
  },
  "language_info": {
   "codemirror_mode": {
    "name": "ipython",
    "version": 3
   },
   "file_extension": ".py",
   "mimetype": "text/x-python",
   "name": "python",
   "nbconvert_exporter": "python",
   "pygments_lexer": "ipython3",
   "version": "3.11.5"
  }
 },
 "nbformat": 4,
 "nbformat_minor": 2
}
