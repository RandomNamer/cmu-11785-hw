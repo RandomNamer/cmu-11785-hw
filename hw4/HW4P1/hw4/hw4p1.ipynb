{
  "cells": [
    {
      "cell_type": "markdown",
      "metadata": {
        "id": "PSLkT0qL3jgl"
      },
      "source": [
        "# **HW4P1: Language Modelling**\n",
        "\n",
        "Welcome to the final Part 1 HW of this course. This is the only part 1 in which you have PyTorch training (Yay!). You will be working on training language models and evaluating them on the task of prediction and generation.<br>"
      ]
    },
    {
      "cell_type": "markdown",
      "metadata": {
        "id": "0TbDdinS6buu"
      },
      "source": [
        "As you go, please read the code and keep an eye out for TODOs.\n",
        "\n",
        "Structure of this notebook:\n",
        "\n",
        "- **Imports and installs** - specify the correct data paths and mostly just run it.\n",
        "- **Datasets** - complete TODO and run it.\n",
        "- **Dataloader** - complete TODO and run it.\n",
        "- **Language model architecture** - implement and define your preferred model architecture based on the writeup.\n",
        "- **Dataloader, model, loss, optimizer, and scheduler definition** - define your dataloader, model, loss, optimizer, and scheduler.\n",
        "- **Trainer class** - unlike all the P2s, we are using a Trainer class for this HW, review the class and complete the train function.\n",
        "- **Wandb** - add a correct API key.\n",
        "- **Experiments** - just run your experiments and note the resulting NLL metric.\n",
        "- **Evaluation** - get access to OpenAI API to get the resulting perplexity metric.\n",
        "- **Submission** - create a handin for Autolab."
      ]
    },
    {
      "cell_type": "markdown",
      "metadata": {
        "cell_id": "95e48c7693e34a389da49dcb6e448e0c",
        "deepnote_cell_type": "markdown",
        "id": "EB2bOV3bzYLR"
      },
      "source": [
        "# **Imports and installs**"
      ]
    },
    {
      "cell_type": "code",
      "execution_count": 1,
      "metadata": {
        "id": "tG9-HVopYWzX"
      },
      "outputs": [],
      "source": [
        "# !tar -xvf /content/hw4p1_handout.tar"
      ]
    },
    {
      "cell_type": "code",
      "execution_count": 2,
      "metadata": {
        "id": "r4_-qG9rSULt"
      },
      "outputs": [],
      "source": [
        "# !pip install torchsummaryX\n",
        "# !pip install wandb --quiet\n",
        "# !pip install matplotlib\n",
        "\n",
        "# !pip install -q cohere tiktoken openai\n",
        "# !pip install openai==0.28``"
      ]
    },
    {
      "cell_type": "code",
      "execution_count": 3,
      "metadata": {
        "id": "RnrUvEIC5i5j"
      },
      "outputs": [],
      "source": [
        "# TODO: Import drive if you are using Colab"
      ]
    },
    {
      "cell_type": "code",
      "execution_count": 4,
      "metadata": {
        "cell_id": "03bf3bd639a048f098d5febc42e2baff",
        "deepnote_cell_type": "code",
        "deepnote_to_be_reexecuted": false,
        "execution_millis": 4,
        "execution_start": 1679856365820,
        "id": "QZNwme4320LW",
        "source_hash": "b7876178"
      },
      "outputs": [
        {
          "data": {
            "text/plain": [
              "['/mnt/w/Sync/Courses/24 Spring/11785 IDL/hw/hw4/HW4P1/hw4',\n",
              " '',\n",
              " '/opt/ros/humble/lib/python3.10/site-packages',\n",
              " '/opt/ros/humble/local/lib/python3.10/dist-packages',\n",
              " '/home/zzy/miniconda3/envs/11785/lib/python311.zip',\n",
              " '/home/zzy/miniconda3/envs/11785/lib/python3.11',\n",
              " '/home/zzy/miniconda3/envs/11785/lib/python3.11/lib-dynload',\n",
              " '/home/zzy/miniconda3/envs/11785/lib/python3.11/site-packages']"
            ]
          },
          "execution_count": 4,
          "metadata": {},
          "output_type": "execute_result"
        }
      ],
      "source": [
        "# You can upload entire working directory of HW4P1 to google drive and access the files from there\n",
        "\n",
        "import sys\n",
        "sys.path\n",
        "# path = NotImplemented # TODO: Add path to handout. For example \"content/handout\"\n",
        "# sys.path.append(path)\n",
        "# %cd {path}"
      ]
    },
    {
      "cell_type": "code",
      "execution_count": 5,
      "metadata": {
        "cell_id": "b48a9e95f26c4d2e89d95b1b311cedd5",
        "deepnote_cell_type": "code",
        "deepnote_to_be_reexecuted": false,
        "execution": {
          "iopub.execute_input": "2022-08-10T14:02:09.992480Z",
          "iopub.status.busy": "2022-08-10T14:02:09.987693Z",
          "iopub.status.idle": "2022-08-10T14:02:12.872562Z",
          "shell.execute_reply": "2022-08-10T14:02:12.870819Z",
          "shell.execute_reply.started": "2022-08-10T14:02:09.991351Z"
        },
        "execution_millis": 2669,
        "execution_start": 1679856365830,
        "id": "oxiZ42B4SwQ-",
        "source_hash": "ec149d26",
        "tags": []
      },
      "outputs": [],
      "source": [
        "%matplotlib inline\n",
        "\n",
        "import torch\n",
        "\n",
        "import os\n",
        "\n",
        "import time\n",
        "import numpy as np\n",
        "from matplotlib import pyplot as plt\n",
        "from tqdm import tqdm\n",
        "import torchsummaryX\n",
        "import gc\n",
        "import wandb\n",
        "import yaml\n",
        "import openai\n",
        "\n",
        "# Importing necessary modules from hw4\n",
        "# Update the path depending on how you choose to load the handout\n",
        "from tests_hw4 import get_prediction_nll, make_generation_text\n",
        "\n",
        "DEVICE = \"cuda\" if torch.cuda.is_available() else \"cpu\"\n",
        "# # print(\"Device: \", DEVICE)"
      ]
    },
    {
      "cell_type": "markdown",
      "metadata": {
        "cell_id": "a4ff875589ee46da8f749a7e5088a3ef",
        "deepnote_cell_type": "markdown",
        "id": "u-R794-0zc9V"
      },
      "source": [
        "# **Datasets**"
      ]
    },
    {
      "cell_type": "code",
      "execution_count": 6,
      "metadata": {
        "id": "HU4e_6l0Whda"
      },
      "outputs": [
        {
          "name": "stdout",
          "output_type": "stream",
          "text": [
            "Vocab length:  33280\n",
            "['!' '\"' '#' ... '～' '<sos>' '<eos>']\n"
          ]
        }
      ],
      "source": [
        "# Loading the vocabulary. Try printing and see\n",
        "VOCAB       = np.load('../dataset/vocab.npy')\n",
        "\n",
        "# We have also included <sos> and <eos> in the vocabulary for you\n",
        "# However in real life, you include it explicitly if not provided\n",
        "SOS_TOKEN   = np.where(VOCAB == '<sos>')[0][0]\n",
        "EOS_TOKEN   = np.where(VOCAB == '<eos>')[0][0]\n",
        "NUM_WORDS   = len(VOCAB) - 2 # Actual number of words in vocabulary\n",
        "\n",
        "print(\"Vocab length: \", len(VOCAB))\n",
        "print(VOCAB)"
      ]
    },
    {
      "cell_type": "code",
      "execution_count": 7,
      "metadata": {
        "id": "LA7SapmyXHr7"
      },
      "outputs": [],
      "source": [
        "# Loding the training dataset. Refer to write up section 2 to understand the structure\n",
        "dataset     = np.load('../dataset/wiki.train.npy', allow_pickle=True)\n",
        "\n",
        "# The dataset does not have <sos> and <eos> because they are just regular articles.\n",
        "# TODO: Add <sos> and <eos> to every article in the dataset.\n",
        "# Before doing so, try printing the dataset to see if they are words or integers.\n",
        "articles = []\n",
        "for i in range(dataset.shape[0]):\n",
        "    article = dataset[i]\n",
        "    article = np.insert(article, 0, SOS_TOKEN)\n",
        "    article = np.append(article, EOS_TOKEN)\n",
        "    # articles = np.vstack((articles, article))\n",
        "    articles.append(article)\n",
        "dataset = articles"
      ]
    },
    {
      "cell_type": "code",
      "execution_count": 8,
      "metadata": {
        "cell_id": "09f3a2efaeef49ef9f4c0b2b9a614cca",
        "deepnote_cell_type": "code",
        "deepnote_to_be_reexecuted": false,
        "execution": {
          "iopub.execute_input": "2022-08-10T14:02:12.888156Z",
          "iopub.status.busy": "2022-08-10T14:02:12.884281Z",
          "iopub.status.idle": "2022-08-10T14:02:12.960590Z",
          "shell.execute_reply": "2022-08-10T14:02:12.958805Z",
          "shell.execute_reply.started": "2022-08-10T14:02:12.888058Z"
        },
        "execution_millis": 46,
        "execution_start": 1679856368507,
        "id": "x5znxQhLSwRC",
        "source_hash": "42e4c03c",
        "tags": []
      },
      "outputs": [
        {
          "name": "stdout",
          "output_type": "stream",
          "text": [
            "Validation shapes    :  (128, 21) (128,)\n",
            "Test shapes          :  (128, 21)\n"
          ]
        }
      ],
      "source": [
        "# Loading the fixtures for validation and test - prediction\n",
        "fixtures_pred       = np.load('../fixtures/prediction.npz')        # validation\n",
        "fixtures_pred_test  = np.load('../fixtures/prediction_test.npz')   # test\n",
        "\n",
        "print(\"Validation shapes    : \", fixtures_pred['inp'].shape, fixtures_pred['out'].shape)\n",
        "print(\"Test shapes          : \", fixtures_pred_test['inp'].shape)"
      ]
    },
    {
      "cell_type": "code",
      "execution_count": 9,
      "metadata": {
        "id": "Pes7mCr5WdAw"
      },
      "outputs": [
        {
          "name": "stdout",
          "output_type": "stream",
          "text": [
            "Test Gen Shapes          : (128, 31)\n"
          ]
        }
      ],
      "source": [
        "# Loading the test fixtures for generation\n",
        "fixtures_gen_test   = np.load('../fixtures/generation_test.npy')   # test\n",
        "\n",
        "print(\"Test Gen Shapes          :\", fixtures_gen_test.shape)"
      ]
    },
    {
      "cell_type": "code",
      "execution_count": 10,
      "metadata": {
        "id": "jO_Qt7O6rL8L"
      },
      "outputs": [
        {
          "data": {
            "text/plain": [
              "((3805,), (4003,))"
            ]
          },
          "execution_count": 10,
          "metadata": {},
          "output_type": "execute_result"
        }
      ],
      "source": [
        "# Example Prediction Dev Input and Output\n",
        "# Optional TODO: You can try printing a few samples from the validation set which has both inputs and outputs\n",
        "dataset[0].shape, dataset[1].shape"
      ]
    },
    {
      "cell_type": "markdown",
      "metadata": {
        "cell_id": "aec0165a3f1245dfa52a0cb80dba2578",
        "deepnote_cell_type": "markdown",
        "id": "dHjYhXAOzkrP"
      },
      "source": [
        "# **Dataloader**"
      ]
    },
    {
      "cell_type": "code",
      "execution_count": 11,
      "metadata": {
        "cell_id": "b2e63a7f6dec4a3f98588725a72a8ff2",
        "deepnote_cell_type": "code",
        "deepnote_to_be_reexecuted": false,
        "execution": {
          "iopub.execute_input": "2022-08-10T14:02:13.079390Z",
          "iopub.status.busy": "2022-08-10T14:02:13.078847Z",
          "iopub.status.idle": "2022-08-10T14:02:13.196189Z",
          "shell.execute_reply": "2022-08-10T14:02:13.192167Z",
          "shell.execute_reply.started": "2022-08-10T14:02:13.079324Z"
        },
        "execution_millis": 48,
        "execution_start": 1679856368575,
        "id": "OZNrJ8XvSwRF",
        "source_hash": "a81eaa14",
        "tags": []
      },
      "outputs": [],
      "source": [
        "class DataLoaderForLanguageModeling(torch.utils.data.DataLoader): # Inherit from torch.utils.data.DataLoader\n",
        "    \"\"\"\n",
        "        TODO: Define data loader logic here\n",
        "    \"\"\"\n",
        "    # TODO: You can probably add more parameters as well. Eg. sequence length\n",
        "    def __init__(self, dataset, batch_size, sequence_length=3, shuffle= True, drop_last= False):\n",
        "\n",
        "        # If you remember, these are the standard things which you give while defining a dataloader.\n",
        "        # Now you are just customizing your dataloader\n",
        "        self.dataset    = dataset\n",
        "        self.batch_size = batch_size\n",
        "        self.shuffle    = shuffle\n",
        "        self.drop_last  = drop_last\n",
        "        self.sequence_length = sequence_length\n",
        "        self.dataset_concatenated = np.concatenate(dataset)\n",
        "\n",
        "\n",
        "    def __len__(self):\n",
        "        # What output do you get when you print len(loader)? You get the number of batches\n",
        "        # Your dataset has (579, ) articles and each article has a specified amount of words.\n",
        "        # You concatenate the dataset and then batch parts of it according to the sequence length\n",
        "\n",
        "        total_length = np.sum([self.dataset[i].shape[0] for i in range(len(self.dataset))])\n",
        "        # print(\"checkLen\", total_length)\n",
        "\n",
        "        batch_count = total_length //(self.batch_size*self.sequence_length)\n",
        "        return batch_count\n",
        "\n",
        "    def __iter__(self):\n",
        "        # TODO: Shuffle data if shuffle is True\n",
        "        \n",
        "        if self.shuffle:\n",
        "            # TODO\n",
        "            np.random.shuffle(self.dataset)\n",
        "\n",
        "        # TODO: Set number of batches\n",
        "        num_batches = self.__len__()\n",
        "        \n",
        "        batches = []\n",
        "        \n",
        "        self.dataset_concatenated = np.concatenate(dataset)\n",
        "        \n",
        "        for b in range(num_batches):\n",
        "            batch = self.dataset_concatenated[b*self.batch_size*self.sequence_length:(b+1)*self.batch_size*self.sequence_length+1]\n",
        "            batches.append(batch)\n",
        "            \n",
        "        if self.drop_last:\n",
        "            batches = batches[:-1]\n",
        "            \n",
        "\n",
        "        # TODO: Divide the concetenated dataset into inputs and targets. How do they vary?\n",
        "\n",
        "        # TODO: Reshape the inputs and targets into batches (think about the final shape)\n",
        "\n",
        "        # TODO: Loop though the batches and yield the input and target batch according to the sequence length\n",
        "        batch_idx = 0\n",
        "        \n",
        "        while batch_idx < batches.__len__():\n",
        "            input = batches[batch_idx][:-1].reshape(self.batch_size, self.sequence_length)\n",
        "            target = batches[batch_idx][1:].reshape(self.batch_size, self.sequence_length)\n",
        "            batch_idx += 1\n",
        "            # print(\"checkOutput\", input.shape, target.shape)\n",
        "            yield torch.tensor(input), torch.tensor(target)\n"
      ]
    },
    {
      "cell_type": "code",
      "execution_count": 12,
      "metadata": {
        "cell_id": "773573c8374048d4bcb5a67b905ee2e0",
        "deepnote_cell_type": "code",
        "deepnote_to_be_reexecuted": false,
        "execution_millis": 3,
        "execution_start": 1679856368714,
        "id": "fBZSzmy10M9M",
        "source_hash": "27952b8c"
      },
      "outputs": [
        {
          "name": "stdout",
          "output_type": "stream",
          "text": [
            "torch.Size([32, 20]) torch.Size([32, 20])\n",
            "3245\n",
            "x:  ['<sos>', '=', 'Simon', 'Bradstreet', '=', '<eol>', 'Simon', 'Bradstreet', '(', 'baptized', 'March', '18', ',', '1603', '/', '4', '–', 'March', '27', ',']\n",
            "y:  ['=', 'Simon', 'Bradstreet', '=', '<eol>', 'Simon', 'Bradstreet', '(', 'baptized', 'March', '18', ',', '1603', '/', '4', '–', 'March', '27', ',', '1697']\n"
          ]
        }
      ],
      "source": [
        "# Some sanity checks\n",
        "\n",
        "dl = DataLoaderForLanguageModeling(\n",
        "    dataset     = dataset,\n",
        "    batch_size  = 32,\n",
        "    sequence_length = 20,\n",
        "    shuffle     = True,\n",
        "    drop_last   = True,\n",
        "    # Input Extra parameters here if needed\n",
        ")\n",
        "\n",
        "inputs, targets = next(iter(dl))\n",
        "print(inputs.shape, targets.shape)\n",
        "print(dl.__len__())\n",
        "\n",
        "for x, y in dl:\n",
        "    print(\"x: \", [VOCAB[i] for i in x[0, :]])\n",
        "    print(\"y: \", [VOCAB[i] for i in y[0, :]])\n",
        "    break"
      ]
    },
    {
      "cell_type": "markdown",
      "metadata": {
        "cell_id": "0e75c3c3318d481aa99230d81eb68c13",
        "deepnote_cell_type": "markdown",
        "id": "WcWU0YlnzmVM"
      },
      "source": [
        "# **Language model architecture**"
      ]
    },
    {
      "cell_type": "markdown",
      "metadata": {
        "id": "_7wwkDXlV3xf"
      },
      "source": [
        "Recurrent network, one-directional or bidirectional, captures certain patterns within a sequence, and can store them into state vector or pass into output. As with convolutional networks, we can build another recurrent layer on top of the first one to capture higher level patterns, build from low-level patterns extracted by the first layer. This leads us to the notion of multi-layer RNN, which consists of two or more recurrent networks, where output of the previous layer is passed to the next layer as input.\n",
        "\n",
        "**Link to PyTorch Documentation**: [LSTM Cell](https://pytorch.org/docs/stable/generated/torch.nn.LSTMCell.html)\n",
        "\n",
        "The following image can be a helpful aid in visualizing the flow of information in a multi-layer RNN with LSTM Cells.\n",
        "\n",
        "<img src=\"https://raw.githubusercontent.com/microsoft/AI-For-Beginners/32043fd2c98de6bbcae857058ac38aaa8140b142/lessons/5-NLP/16-RNN/images/multi-layer-lstm.jpg\">\n",
        "\n",
        "\n"
      ]
    },
    {
      "cell_type": "code",
      "execution_count": 13,
      "metadata": {
        "id": "cebwoorWttWe"
      },
      "outputs": [],
      "source": [
        "# Here comes the main portion of this HW.\n",
        "# You can do this with a regular LSTM similar to HW3P2.\n",
        "# However, using LSTMCells presents an opportunity to learn something different\n",
        "\n",
        "class LanguageModel(torch.nn.Module):\n",
        "\n",
        "    def __init__(self, vocab_size, embed_dim, hid_dim): # TODO: Add more parameters as needed\n",
        "        super().__init__()\n",
        "\n",
        "        # For all the layers which you will define, please read the documentation thoroughly before implementation\n",
        "        # TODO: Define a PyTorch embedding layer\n",
        "        self.token_embedding    = torch.nn.Embedding(num_embeddings= vocab_size, embedding_dim = embed_dim)\n",
        "\n",
        "        self.lstm_cells = [\n",
        "            torch.nn.LSTMCell(input_size = embed_dim, hidden_size = hid_dim),\n",
        "            torch.nn.LSTMCell(input_size = hid_dim, hidden_size = hid_dim)\n",
        "        ]\n",
        "\n",
        "        for cell in self.lstm_cells:\n",
        "            cell.apply(self.init_weights)\n",
        "        \n",
        "        self.lstm_cells = torch.nn.Sequential(*self.lstm_cells)\n",
        "\n",
        "        # TODO: Define the parameters\n",
        "        self.token_probability  = torch.nn.Linear(hid_dim, vocab_size)\n",
        "\n",
        "        # (Optional) TODO: Weight Tying. You just need to make the embedding layer weights equal to the Linear layer weight.\n",
        "\n",
        "        # So the basic pipline is:\n",
        "        # word -> embedding -> lstm -> projection (linear) to get  probability distribution\n",
        "        # And this is happening across all time steps\n",
        "\n",
        "    def init_weights(self, m):\n",
        "        if type(m) == torch.nn.LSTMCell:\n",
        "            for name, param in m.named_parameters():\n",
        "                if 'weight' in name:\n",
        "                    torch.nn.init.xavier_uniform_(param.data)  # Xavier Uniform initialization\n",
        "                    # torch.nn.init.orthogonal_(param.data)  # Orthogonal initialization\n",
        "                    # torch.nn.init.normal_(param.data, mean=0, std=1)  # Normal initialization\n",
        "                elif 'bias' in name:\n",
        "                    param.data.fill_(0.01)  # Constant initialization\n",
        "    \n",
        "    def rnn_step(self, embedding, hidden_states_list):\n",
        "        next_hidden_states_list = list(hidden_states_list) # Length of the hidden_states_list is same as lstm cells\n",
        "        token_embedding = embedding\n",
        "        for i, lstm in enumerate(self.lstm_cells):\n",
        "            # print(token_embedding.shape, next_hidden_states_list[-1])\n",
        "            hx, cx = lstm.forward(input=token_embedding, hx=next_hidden_states_list[-1])\n",
        "            # print(hx.shape, cx.shape)\n",
        "            # raise EOFError\n",
        "            next_hidden_states_list[i] = (hx, cx)\n",
        "            token_embedding = hx\n",
        "\n",
        "        return token_embedding, next_hidden_states_list\n",
        "\n",
        "    def predict(self, x):\n",
        "        # Refer to Section 1.2.6 to understand this function\n",
        "        if not torch.is_tensor(x):\n",
        "            x = torch.tensor(x).long().to(DEVICE)\n",
        "\n",
        "        with torch.inference_mode():\n",
        "            # TODO: Pass the input sequence through the model\n",
        "            # and return the probability distribution of the last timestep\n",
        "            prob, _ = self.forward(x)\n",
        "            \n",
        "            return prob[:, -1, :]\n",
        "\n",
        "    def generate(self, x, timesteps):\n",
        "        # Refer to section 1.2.4 to understand this function\n",
        "        # Important Note: We do not draw <eos> from the distribution unlike the writeup\n",
        "\n",
        "        timesteps -= 1\n",
        "        if not torch.is_tensor(x):\n",
        "            x = torch.tensor(x).long().to(DEVICE)\n",
        "\n",
        "        # TODO: Pass the input sequence through the model\n",
        "        # Obtain the probability distribution and hidden_states_list of the last timestep\n",
        "        token_prob_dist, hidden_states_list     = self.forward(x)\n",
        "\n",
        "        # TODO: Draw the next predicted token from the probability distribution ()\n",
        "        next_token                              = token_prob_dist.argmax(dim= -1)\n",
        "        # print(timesteps, x.shape, next_token.shape)\n",
        "\n",
        "        # What would generated_sequence be initialized with?\n",
        "        generated_sequence  = [next_token]\n",
        "        with torch.inference_mode():\n",
        "            for t in range(timesteps): # Loop through the timesteps\n",
        "\n",
        "                # TODO: Pass the next_token and hidden_states_list through the model\n",
        "                token_prob_dist, hidden_states_list = self.forward(next_token, hidden_states_list)\n",
        "                # TODO: You will get 2 outputs. What is the shape of the probability distribution?\n",
        "\n",
        "                # TODO: Get the most probable token for the next timestep\n",
        "                next_token = token_prob_dist.argmax(dim= -1)\n",
        "                generated_sequence.append(next_token)\n",
        "                # torch.cuda.empty_cache()\n",
        "\n",
        "            generated_sequence = torch.stack(generated_sequence, dim= 1)[:, -1, :] # keep last timesteps generated words\n",
        "        return generated_sequence\n",
        "\n",
        "    # We are also having a hidden_states_list parameter because you need that in generation\n",
        "    def forward(self, x, hidden_states_list= None): # train model\n",
        "        # x (Batch, Seq_len)\n",
        "        # Note: you dont have to return the sum of log probabilities according to Pseudocode 1 in the writeup\n",
        "        # However, feel free to calculate and print it if you are curious\n",
        "        x = x.long()\n",
        "\n",
        "        batch_size, timesteps   = x.shape\n",
        "\n",
        "        token_prob_distribution = [] # list which will contain probability distributions for all timesteps\n",
        "\n",
        "        # Initializing the hidden hidden_states_list\n",
        "        # Are the elements of the hidden_states_list individual variables or lists of variables themselves?\n",
        "        # Hint: Refer the PyTorch documentation for the answer\n",
        "        hidden_states_list      = [None]*len(self.lstm_cells) if hidden_states_list == None else hidden_states_list\n",
        "\n",
        "        token_embeddings        = self.token_embedding(x) # (Batch, Seq_len, Embed_dim)\n",
        "\n",
        "        # When you get the embeddings of the input x, remember that you get it for all time steps.\n",
        "        # Embedding is just a linear transformation so you can precompute it for all time steps.\n",
        "\n",
        "        for t in range(timesteps): # LSTMCell is for just 1 timestep. Hence you need to loop through the total timesteps\n",
        "\n",
        "            token_embedding_t   = token_embeddings[:, t, :] # (Batch, Embed_dim)\n",
        "\n",
        "            # TODO (What should you do with the hidden_states_list?)\n",
        "            rnn_out, hidden_states_list = self.rnn_step(token_embedding_t, hidden_states_list)\n",
        "\n",
        "            # Map the RNN output to the vocabulary’s dimension and store it in token_prob_dist_t,\n",
        "            # the token probability distribution at time t.\n",
        "            token_prob_dist_t   = self.token_probability(rnn_out)\n",
        "\n",
        "            # Append token_prob_dist_t to a list of token probability distributions.\n",
        "            token_prob_distribution.append(token_prob_dist_t)\n",
        "\n",
        "        # TODO: Stack along the timesteps dimension\n",
        "        token_prob_distribution = torch.stack(token_prob_distribution, dim= 1)\n",
        "\n",
        "        return token_prob_distribution, hidden_states_list"
      ]
    },
    {
      "cell_type": "markdown",
      "metadata": {
        "id": "DelhoytAQWQa"
      },
      "source": [
        "# **Dataloader, model, loss, optimizer, and scheduler definition**"
      ]
    },
    {
      "cell_type": "code",
      "execution_count": 14,
      "metadata": {
        "id": "jW-YAD9b7FoC"
      },
      "outputs": [],
      "source": [
        "# TODO: Define other hyperparameters\n",
        "\n",
        "config = dict(\n",
        "    batch_size  = 256,\n",
        "    num_epochs  = 30, # 10 to 20 epochs should be enough given the model is good\n",
        "    init_lr     = 0.001,\n",
        ")"
      ]
    },
    {
      "cell_type": "code",
      "execution_count": 15,
      "metadata": {
        "cell_id": "4aaccf1c32fa480a9a15e8bb8bc4d9e4",
        "deepnote_cell_type": "code",
        "deepnote_to_be_reexecuted": true,
        "execution": {
          "iopub.execute_input": "2022-08-10T14:02:14.110787Z",
          "iopub.status.busy": "2022-08-10T14:02:14.109778Z",
          "iopub.status.idle": "2022-08-10T14:02:14.929087Z",
          "shell.execute_reply": "2022-08-10T14:02:14.925078Z",
          "shell.execute_reply.started": "2022-08-10T14:02:14.110707Z"
        },
        "id": "DbHH6zXTSwRa",
        "source_hash": "2acff566",
        "tags": []
      },
      "outputs": [
        {
          "name": "stdout",
          "output_type": "stream",
          "text": [
            "LanguageModel(\n",
            "  (token_embedding): Embedding(33280, 128)\n",
            "  (lstm_cells): Sequential(\n",
            "    (0): LSTMCell(128, 128)\n",
            "    (1): LSTMCell(128, 128)\n",
            "  )\n",
            "  (token_probability): Linear(in_features=128, out_features=33280, bias=True)\n",
            ")\n",
            "torch.Size([256, 20]) torch.Size([256, 20])\n",
            "405\n"
          ]
        },
        {
          "data": {
            "text/plain": [
              "==========================================================================================\n",
              "Layer (type:depth-idx)                   Output Shape              Param #\n",
              "==========================================================================================\n",
              "LanguageModel                            [256, 20, 33280]          264,192\n",
              "├─Embedding: 1-1                         [256, 20, 128]            4,259,840\n",
              "├─Linear: 1-2                            [256, 33280]              4,293,120\n",
              "├─Linear: 1-3                            [256, 33280]              (recursive)\n",
              "├─Linear: 1-4                            [256, 33280]              (recursive)\n",
              "├─Linear: 1-5                            [256, 33280]              (recursive)\n",
              "├─Linear: 1-6                            [256, 33280]              (recursive)\n",
              "├─Linear: 1-7                            [256, 33280]              (recursive)\n",
              "├─Linear: 1-8                            [256, 33280]              (recursive)\n",
              "├─Linear: 1-9                            [256, 33280]              (recursive)\n",
              "├─Linear: 1-10                           [256, 33280]              (recursive)\n",
              "├─Linear: 1-11                           [256, 33280]              (recursive)\n",
              "├─Linear: 1-12                           [256, 33280]              (recursive)\n",
              "├─Linear: 1-13                           [256, 33280]              (recursive)\n",
              "├─Linear: 1-14                           [256, 33280]              (recursive)\n",
              "├─Linear: 1-15                           [256, 33280]              (recursive)\n",
              "├─Linear: 1-16                           [256, 33280]              (recursive)\n",
              "├─Linear: 1-17                           [256, 33280]              (recursive)\n",
              "├─Linear: 1-18                           [256, 33280]              (recursive)\n",
              "├─Linear: 1-19                           [256, 33280]              (recursive)\n",
              "├─Linear: 1-20                           [256, 33280]              (recursive)\n",
              "├─Linear: 1-21                           [256, 33280]              (recursive)\n",
              "==========================================================================================\n",
              "Total params: 8,817,152\n",
              "Trainable params: 8,817,152\n",
              "Non-trainable params: 0\n",
              "Total mult-adds (Units.GIGABYTES): 23.07\n",
              "==========================================================================================\n",
              "Input size (MB): 0.04\n",
              "Forward/backward pass size (MB): 1368.39\n",
              "Params size (MB): 34.21\n",
              "Estimated Total Size (MB): 1402.64\n",
              "=========================================================================================="
            ]
          },
          "execution_count": 15,
          "metadata": {},
          "output_type": "execute_result"
        }
      ],
      "source": [
        "import torchinfo\n",
        "# --------------------------------------------------- #\n",
        "\n",
        "# TODO: Define the dataloader\n",
        "loader = DataLoaderForLanguageModeling(dataset, batch_size = config['batch_size'], sequence_length = 20, shuffle = True, drop_last = True)\n",
        "\n",
        "# --------------------------------------------------- #\n",
        "\n",
        "# TODO: Define the model\n",
        "model = LanguageModel(vocab_size = len(VOCAB), embed_dim=128, hid_dim=128).to(DEVICE)\n",
        "\n",
        "# --------------------------------------------------- #\n",
        "\n",
        "# TODO: Define the criterion\n",
        "criterion   = torch.nn.CrossEntropyLoss()\n",
        "\n",
        "# --------------------------------------------------- #\n",
        "\n",
        "# TODO: Define the optimizer\n",
        "## Adam/AdamW usually works good for this HW\n",
        "optimizer   = torch.optim.AdamW(model.parameters(), lr = config['init_lr'])\n",
        "\n",
        "# --------------------------------------------------- #\n",
        "\n",
        "# TODO: Define scheduler\n",
        "scheduler = torch.optim.lr_scheduler.ReduceLROnPlateau(optimizer, mode = 'min', factor = 0.2, patience = 3, verbose = True)\n",
        "\n",
        "# --------------------------------------------------- #\n",
        "\n",
        "#TODO: Define scaler for mixed precision\n",
        "# scaler = NotImplemented\n",
        "\n",
        "print(model)\n",
        "inputs, targets = next(iter(loader))\n",
        "print(inputs.shape, targets.shape)\n",
        "print(loader.__len__())\n",
        "torchinfo.summary(model.to(DEVICE), input_data=inputs.to(DEVICE))"
      ]
    },
    {
      "cell_type": "markdown",
      "metadata": {
        "cell_id": "8ed5a6ef54f9446fab752b79c70a0216",
        "deepnote_cell_type": "markdown",
        "id": "TlWF_bpLznup"
      },
      "source": [
        "# **Trainer class**"
      ]
    },
    {
      "cell_type": "code",
      "execution_count": 16,
      "metadata": {
        "cell_id": "8ea986fc372643389d1ab4c445659e9d",
        "deepnote_cell_type": "code",
        "deepnote_to_be_reexecuted": true,
        "execution": {
          "iopub.execute_input": "2022-08-10T14:02:13.440820Z",
          "iopub.status.busy": "2022-08-10T14:02:13.440281Z",
          "iopub.status.idle": "2022-08-10T14:02:13.644455Z",
          "shell.execute_reply": "2022-08-10T14:02:13.642614Z",
          "shell.execute_reply.started": "2022-08-10T14:02:13.440752Z"
        },
        "id": "kIvZOIfjSwRK",
        "source_hash": "451a140f",
        "tags": []
      },
      "outputs": [],
      "source": [
        "# Unlike all the P2s, we are using a Trainer class for this HW.\n",
        "# Many researchers also use classes like this for training. You may have encountered them in your project as well.\n",
        "# You dont have to complete everything in this class, you only need to complete the train function.\n",
        "# However, its good to go through the code and see what it does.\n",
        "\n",
        "class Trainer:\n",
        "    def __init__(self, model, loader, optimizer, criterion, scheduler, scaler, max_epochs= 1, run_id= 'exp'):\n",
        "        \"\"\"\n",
        "            Use this class to train your model\n",
        "        \"\"\"\n",
        "        # feel free to add any other parameters here\n",
        "        self.model      = model\n",
        "        self.loader     = loader\n",
        "        self.optimizer  = optimizer\n",
        "        self.criterion  = criterion\n",
        "        self.scheduler  = scheduler\n",
        "        self.scaler     = scaler\n",
        "\n",
        "        self.train_losses           = []\n",
        "        self.val_losses             = []\n",
        "        self.prediction_probs       = []\n",
        "        self.prediction_probs_test  = []\n",
        "        self.generated_texts_test   = []\n",
        "        self.epochs                 = 0\n",
        "        self.max_epochs             = max_epochs\n",
        "        self.run_id                 = run_id\n",
        "\n",
        "\n",
        "    def calculate_loss(self, out, target):\n",
        "        # output: (B, T, Vocab_size) - probability distributions\n",
        "        # target: (B, T)\n",
        "        # Read the documentation of CrossEntropyLoss and try to understand how it takes inputs\n",
        "\n",
        "        # Tip: If your target is of shape (B, T) it means that you have B batches with T words.\n",
        "        # Tip: What is the total number of words in this batch?\n",
        "        # Tip: Crossentropy calculates the loss between a label and its probability distribution.\n",
        "\n",
        "        out     = out.reshape(-1, out.shape[-1]) \n",
        "        targets = target.reshape(-1)\n",
        "        loss    = self.criterion(out, targets)\n",
        "\n",
        "        return loss\n",
        "\n",
        "\n",
        "    def train(self):\n",
        "\n",
        "        self.model.train() # set to training mode\n",
        "        self.model.to(DEVICE)\n",
        "        epoch_loss  = 0\n",
        "        num_batches = 0 # what this for?\n",
        "\n",
        "        for batch_num, (inputs, targets) in enumerate(tqdm(self.loader)):\n",
        "\n",
        "            # TODO: Complete the loop. You should be able to complete this without any helper comments after 3 HWs\n",
        "            # Tip: Use Mixed Precision Training\n",
        "            # For loss calculation, use the calculate_loss function. You need to complete it before using.\n",
        "\n",
        "            inputs = torch.tensor(inputs).long().to(DEVICE)\n",
        "            targets = torch.tensor(targets).long().to(DEVICE)\n",
        "\n",
        "            self.optimizer.zero_grad()\n",
        "\n",
        "            # with torch.cuda.amp.autocast():\n",
        "            #   # Add code here\n",
        "            #   pass\n",
        "            \n",
        "            out,_ = self.model(inputs)\n",
        "            loss = self.calculate_loss(out, targets)\n",
        "            \n",
        "            loss_item = loss.item()\n",
        "            epoch_loss += loss_item\n",
        "\n",
        "            # TODO: Add backward and, optimiser step and scaler update code here:\n",
        "            loss.backward()\n",
        "            self.optimizer.step()\n",
        "            # self.scheduler.step(loss)\n",
        "        \n",
        "        epoch_loss = epoch_loss / (batch_num + 1)\n",
        "        self.epochs += 1\n",
        "        print('[TRAIN] \\tEpoch [%d/%d] \\tLoss: %.4f \\tLr: %.6f'\n",
        "                    % (self.epochs, self.max_epochs, epoch_loss, self.optimizer.param_groups[0]['lr']))\n",
        "        self.train_losses.append(epoch_loss)\n",
        "\n",
        "        return (epoch_loss, self.optimizer.param_groups[0]['lr'])\n",
        "\n",
        "\n",
        "\n",
        "    def test(self): # Don't change this function\n",
        "\n",
        "        self.model.eval() # set to eval mode\n",
        "        prediction_probs     = self.model.predict(fixtures_pred['inp']) # get predictions\n",
        "        prediction_probs = prediction_probs.clone().detach().cpu().numpy()\n",
        "        self.prediction_probs.append(prediction_probs)\n",
        "\n",
        "        generated_indexes_test   = self.model.generate(fixtures_gen_test, 10).detach().cpu().numpy() # generated predictions for 10 words\n",
        "\n",
        "        # print(generated_indexes_test.shape)\n",
        "        nll                   = get_prediction_nll(prediction_probs, fixtures_pred['out'])\n",
        "        generated_texts_test  = make_generation_text(fixtures_gen_test, generated_indexes_test, VOCAB)\n",
        "        self.val_losses.append(nll)\n",
        "\n",
        "        self.generated_texts_test.append(generated_texts_test)\n",
        "\n",
        "        # generate predictions for test data\n",
        "        prediction_probs_test = self.model.predict(fixtures_pred_test['inp']).detach().cpu().numpy() # get predictions\n",
        "        self.prediction_probs_test.append(prediction_probs_test)\n",
        "\n",
        "        print('[VAL] \\tEpoch [%d/%d] \\tLoss: %.4f'\n",
        "                      % (self.epochs, self.max_epochs, nll))\n",
        "        return nll\n",
        "\n",
        "\n",
        "    def save(self): # Don't change this function\n",
        "\n",
        "        model_path = os.path.join('../hw4/experiments', self.run_id, 'model-{}.pkl'.format(self.epochs))\n",
        "        torch.save({'state_dict': self.model.state_dict()}, model_path)\n",
        "        np.save(os.path.join('../hw4/experiments', self.run_id, 'prediction-probs-{}.npy'.format(self.epochs)), self.prediction_probs[-1])\n",
        "        np.save(os.path.join('../hw4/experiments', self.run_id, 'prediction-probs-test-{}.npy'.format(self.epochs)), self.prediction_probs_test[-1])\n",
        "\n",
        "        with open(os.path.join('../hw4/experiments', self.run_id, 'generated-texts-{}-test.txt'.format(self.epochs)), 'w') as fw:\n",
        "            fw.write(self.generated_texts_test[-1])"
      ]
    },
    {
      "cell_type": "code",
      "execution_count": 17,
      "metadata": {
        "cell_id": "aaff53cf948e44b7b9bd49cbcad0ac58",
        "deepnote_cell_type": "code",
        "deepnote_to_be_reexecuted": true,
        "execution": {
          "iopub.execute_input": "2022-08-10T14:02:13.931258Z",
          "iopub.status.busy": "2022-08-10T14:02:13.930204Z",
          "iopub.status.idle": "2022-08-10T14:02:14.107883Z",
          "shell.execute_reply": "2022-08-10T14:02:14.105987Z",
          "shell.execute_reply.started": "2022-08-10T14:02:13.931185Z"
        },
        "id": "2HCVG5YISwRW",
        "source_hash": "c9f4594a",
        "tags": []
      },
      "outputs": [
        {
          "name": "stdout",
          "output_type": "stream",
          "text": [
            "Saving models, prediction prbabilities, and generated texts to ../hw4/experiments/1713235126\n"
          ]
        }
      ],
      "source": [
        "# Dont change this cell\n",
        "\n",
        "run_id = str(int(time.time()))\n",
        "if not os.path.exists('../hw4/experiments'):\n",
        "    os.mkdir('../hw4/experiments')\n",
        "os.mkdir('../hw4/experiments/%s' % run_id)\n",
        "print(\"Saving models, prediction prbabilities, and generated texts to ../hw4/experiments/%s\" % run_id)\n",
        "\n",
        "# The object of the Trainer class takes in everything\n",
        "trainer = Trainer(\n",
        "    model       = model,\n",
        "    loader      = loader,\n",
        "\n",
        "    optimizer   = optimizer,\n",
        "    criterion   = criterion,\n",
        "    scheduler   = scheduler,\n",
        "    scaler      = None,\n",
        "    max_epochs  = config['num_epochs'],\n",
        "    run_id      = run_id\n",
        ")"
      ]
    },
    {
      "cell_type": "markdown",
      "metadata": {
        "id": "Dfrf1FoSoAI0"
      },
      "source": [
        "# **Wandb**"
      ]
    },
    {
      "cell_type": "code",
      "execution_count": 18,
      "metadata": {
        "id": "EuIbwKXToCt-"
      },
      "outputs": [],
      "source": [
        "# # Use wandb? Resume Training?\n",
        "# USE_WANDB = True\n",
        "# RESUME_LOGGING = False\n",
        "\n",
        "# # Create your wandb run\n",
        "\n",
        "# run_name = NotImplemented\n",
        "\n",
        "# if USE_WANDB:\n",
        "\n",
        "#     wandb.login(key=NotImplemented)\n",
        "\n",
        "#     if RESUME_LOGGING:\n",
        "#         run_id = ''\n",
        "#         run = wandb.init(\n",
        "#             id     = run_id, ### Insert specific run id here if you want to resume a previous run\n",
        "#             resume = \"must\", ### You need this to resume previous runs, but comment out reinit = True when using this\n",
        "#             project = \"hw4p1-s24\", ### Project should be created in your wandb account\n",
        "#         )\n",
        "#     else:\n",
        "#         run = wandb.init(\n",
        "#             name    = run_name, ### Wandb creates random run names if you skip this field, we recommend you give useful names\n",
        "#             reinit  = True, ### Allows reinitalizing runs when you re-run this cell\n",
        "#             project = \"hw4p1-s24\", ### Project should be created in your wandb account\n",
        "#             config  = config ### Wandb Config for your run\n",
        "#         )\n",
        "\n",
        "#         ### Save your model architecture as a string with str(model)\n",
        "#         model_arch  = str(model)\n",
        "#         ### Save it in a txt file\n",
        "#         arch_file   = open(\"model_arch.txt\", \"w\")\n",
        "#         file_write  = arch_file.write(model_arch)\n",
        "#         arch_file.close()\n",
        "\n",
        "#         ### log it in your wandb run with wandb.save()\n",
        "#         wandb.save('model_arch.txt')"
      ]
    },
    {
      "cell_type": "markdown",
      "metadata": {
        "id": "0fcxKXL0hrxX"
      },
      "source": [
        "# **Experiments**"
      ]
    },
    {
      "cell_type": "code",
      "execution_count": 19,
      "metadata": {},
      "outputs": [],
      "source": [
        "# trainer.test()"
      ]
    },
    {
      "cell_type": "code",
      "execution_count": 20,
      "metadata": {
        "id": "-pLh5_LCpVxw"
      },
      "outputs": [
        {
          "name": "stderr",
          "output_type": "stream",
          "text": [
            "  0%|          | 0/405 [00:00<?, ?it/s]/tmp/ipykernel_40639/3181274751.py:58: UserWarning: To copy construct from a tensor, it is recommended to use sourceTensor.clone().detach() or sourceTensor.clone().detach().requires_grad_(True), rather than torch.tensor(sourceTensor).\n",
            "  inputs = torch.tensor(inputs).long().to(DEVICE)\n",
            "/tmp/ipykernel_40639/3181274751.py:59: UserWarning: To copy construct from a tensor, it is recommended to use sourceTensor.clone().detach() or sourceTensor.clone().detach().requires_grad_(True), rather than torch.tensor(sourceTensor).\n",
            "  targets = torch.tensor(targets).long().to(DEVICE)\n",
            "100%|█████████▉| 404/405 [00:07<00:00, 52.72it/s]\n"
          ]
        },
        {
          "name": "stdout",
          "output_type": "stream",
          "text": [
            "[TRAIN] \tEpoch [1/30] \tLoss: 7.4309 \tLr: 0.001000\n",
            "[   72 24820 21959    79  1419 25821 13052  3909  1419  2118 31190 24567\n",
            " 32747  6085 26516  1419 31353 29478 22356 14658  1420 13710 22534  1512\n",
            " 25821 31353 26874 25821 29310  1794 16004 31293 21626    76  1424     1\n",
            " 25177  1311    76 31352 31353    76  2858  1417 23318   373     1 15111\n",
            " 31353    76    79 19085 23592    76 12959     1 25871 25821 22633  1423\n",
            " 31589  1419 22845 18261  1424 31353 32873 19623 31353 16077  1424 26375\n",
            " 31352 27417 32883 17135 31429    79 31994 31673 25525 22968 31353 13276\n",
            " 25821 31514  1424 14658  1417 11475 31994 29707 25821 26753 22968 33248\n",
            " 17731 32209 16672 24098 25410 31353 27904 28296 10120    79 31353  1417\n",
            " 15898    76 15340 15577  1420 14247 31205  1419 32883    79 19652   869\n",
            " 14118 25639 15310 15391 31353 29294  5172  8881]\n",
            "[VAL] \tEpoch [1/30] \tLoss: 6.3990\n",
            "Epoch:  1 NLL:  6.3990116 Best NLL:  1e+30\n",
            "Saving model, prediction probabilities and generated texts for epoch 1 with NLL: 6.3990116\n"
          ]
        },
        {
          "name": "stderr",
          "output_type": "stream",
          "text": [
            "100%|█████████▉| 404/405 [00:07<00:00, 53.56it/s]\n"
          ]
        },
        {
          "name": "stdout",
          "output_type": "stream",
          "text": [
            "[TRAIN] \tEpoch [2/30] \tLoss: 6.7535 \tLr: 0.001000\n",
            "[   72 24820 21959    79  1419 25821 13052  3909  1419  2118 31190 24567\n",
            " 32747  6085 26516  1419 31353 29478 22356 14658  1420 13710 22534  1512\n",
            " 25821 31353 26874 25821 29310  1794 16004 31293 21626    76  1424     1\n",
            " 25177  1311    76 31352 31353    76  2858  1417 23318   373     1 15111\n",
            " 31353    76    79 19085 23592    76 12959     1 25871 25821 22633  1423\n",
            " 31589  1419 22845 18261  1424 31353 32873 19623 31353 16077  1424 26375\n",
            " 31352 27417 32883 17135 31429    79 31994 31673 25525 22968 31353 13276\n",
            " 25821 31514  1424 14658  1417 11475 31994 29707 25821 26753 22968 33248\n",
            " 17731 32209 16672 24098 25410 31353 27904 28296 10120    79 31353  1417\n",
            " 15898    76 15340 15577  1420 14247 31205  1419 32883    79 19652   869\n",
            " 14118 25639 15310 15391 31353 29294  5172  8881]\n",
            "[VAL] \tEpoch [2/30] \tLoss: 5.9931\n",
            "Epoch:  2 NLL:  5.9931355 Best NLL:  6.3990116\n",
            "Saving model, prediction probabilities and generated texts for epoch 2 with NLL: 5.9931355\n"
          ]
        },
        {
          "name": "stderr",
          "output_type": "stream",
          "text": [
            "100%|█████████▉| 404/405 [00:07<00:00, 53.67it/s]\n"
          ]
        },
        {
          "name": "stdout",
          "output_type": "stream",
          "text": [
            "[TRAIN] \tEpoch [3/30] \tLoss: 6.4595 \tLr: 0.001000\n",
            "[   72 24820 21959    79  1419 25821 13052  3909  1419  2118 31190 24567\n",
            " 32747  6085 26516  1419 31353 29478 22356 14658  1420 13710 22534  1512\n",
            " 25821 31353 26874 25821 29310  1794 16004 31293 21626    76  1424     1\n",
            " 25177  1311    76 31352 31353    76  2858  1417 23318   373     1 15111\n",
            " 31353    76    79 19085 23592    76 12959     1 25871 25821 22633  1423\n",
            " 31589  1419 22845 18261  1424 31353 32873 19623 31353 16077  1424 26375\n",
            " 31352 27417 32883 17135 31429    79 31994 31673 25525 22968 31353 13276\n",
            " 25821 31514  1424 14658  1417 11475 31994 29707 25821 26753 22968 33248\n",
            " 17731 32209 16672 24098 25410 31353 27904 28296 10120    79 31353  1417\n",
            " 15898    76 15340 15577  1420 14247 31205  1419 32883    79 19652   869\n",
            " 14118 25639 15310 15391 31353 29294  5172  8881]\n",
            "[VAL] \tEpoch [3/30] \tLoss: 5.7715\n",
            "Epoch:  3 NLL:  5.7714663 Best NLL:  5.9931355\n",
            "Saving model, prediction probabilities and generated texts for epoch 3 with NLL: 5.7714663\n"
          ]
        },
        {
          "name": "stderr",
          "output_type": "stream",
          "text": [
            "100%|█████████▉| 404/405 [00:07<00:00, 53.71it/s]\n"
          ]
        },
        {
          "name": "stdout",
          "output_type": "stream",
          "text": [
            "[TRAIN] \tEpoch [4/30] \tLoss: 6.2603 \tLr: 0.001000\n",
            "[   72 24820 21959    79  1419 25821 13052  3909  1419  2118 31190 24567\n",
            " 32747  6085 26516  1419 31353 29478 22356 14658  1420 13710 22534  1512\n",
            " 25821 31353 26874 25821 29310  1794 16004 31293 21626    76  1424     1\n",
            " 25177  1311    76 31352 31353    76  2858  1417 23318   373     1 15111\n",
            " 31353    76    79 19085 23592    76 12959     1 25871 25821 22633  1423\n",
            " 31589  1419 22845 18261  1424 31353 32873 19623 31353 16077  1424 26375\n",
            " 31352 27417 32883 17135 31429    79 31994 31673 25525 22968 31353 13276\n",
            " 25821 31514  1424 14658  1417 11475 31994 29707 25821 26753 22968 33248\n",
            " 17731 32209 16672 24098 25410 31353 27904 28296 10120    79 31353  1417\n",
            " 15898    76 15340 15577  1420 14247 31205  1419 32883    79 19652   869\n",
            " 14118 25639 15310 15391 31353 29294  5172  8881]\n",
            "[VAL] \tEpoch [4/30] \tLoss: 5.6455\n",
            "Epoch:  4 NLL:  5.6454744 Best NLL:  5.7714663\n",
            "Saving model, prediction probabilities and generated texts for epoch 4 with NLL: 5.6454744\n"
          ]
        },
        {
          "name": "stderr",
          "output_type": "stream",
          "text": [
            "100%|█████████▉| 404/405 [00:07<00:00, 53.54it/s]\n"
          ]
        },
        {
          "name": "stdout",
          "output_type": "stream",
          "text": [
            "[TRAIN] \tEpoch [5/30] \tLoss: 6.1037 \tLr: 0.001000\n",
            "[   72 24820 21959    79  1419 25821 13052  3909  1419  2118 31190 24567\n",
            " 32747  6085 26516  1419 31353 29478 22356 14658  1420 13710 22534  1512\n",
            " 25821 31353 26874 25821 29310  1794 16004 31293 21626    76  1424     1\n",
            " 25177  1311    76 31352 31353    76  2858  1417 23318   373     1 15111\n",
            " 31353    76    79 19085 23592    76 12959     1 25871 25821 22633  1423\n",
            " 31589  1419 22845 18261  1424 31353 32873 19623 31353 16077  1424 26375\n",
            " 31352 27417 32883 17135 31429    79 31994 31673 25525 22968 31353 13276\n",
            " 25821 31514  1424 14658  1417 11475 31994 29707 25821 26753 22968 33248\n",
            " 17731 32209 16672 24098 25410 31353 27904 28296 10120    79 31353  1417\n",
            " 15898    76 15340 15577  1420 14247 31205  1419 32883    79 19652   869\n",
            " 14118 25639 15310 15391 31353 29294  5172  8881]\n",
            "[VAL] \tEpoch [5/30] \tLoss: 5.5522\n",
            "Epoch:  5 NLL:  5.552205 Best NLL:  5.6454744\n",
            "Saving model, prediction probabilities and generated texts for epoch 5 with NLL: 5.552205\n"
          ]
        },
        {
          "name": "stderr",
          "output_type": "stream",
          "text": [
            "100%|█████████▉| 404/405 [00:07<00:00, 53.63it/s]\n"
          ]
        },
        {
          "name": "stdout",
          "output_type": "stream",
          "text": [
            "[TRAIN] \tEpoch [6/30] \tLoss: 5.9719 \tLr: 0.001000\n",
            "[   72 24820 21959    79  1419 25821 13052  3909  1419  2118 31190 24567\n",
            " 32747  6085 26516  1419 31353 29478 22356 14658  1420 13710 22534  1512\n",
            " 25821 31353 26874 25821 29310  1794 16004 31293 21626    76  1424     1\n",
            " 25177  1311    76 31352 31353    76  2858  1417 23318   373     1 15111\n",
            " 31353    76    79 19085 23592    76 12959     1 25871 25821 22633  1423\n",
            " 31589  1419 22845 18261  1424 31353 32873 19623 31353 16077  1424 26375\n",
            " 31352 27417 32883 17135 31429    79 31994 31673 25525 22968 31353 13276\n",
            " 25821 31514  1424 14658  1417 11475 31994 29707 25821 26753 22968 33248\n",
            " 17731 32209 16672 24098 25410 31353 27904 28296 10120    79 31353  1417\n",
            " 15898    76 15340 15577  1420 14247 31205  1419 32883    79 19652   869\n",
            " 14118 25639 15310 15391 31353 29294  5172  8881]\n",
            "[VAL] \tEpoch [6/30] \tLoss: 5.4279\n",
            "Epoch:  6 NLL:  5.427873 Best NLL:  5.552205\n",
            "Saving model, prediction probabilities and generated texts for epoch 6 with NLL: 5.427873\n"
          ]
        },
        {
          "name": "stderr",
          "output_type": "stream",
          "text": [
            "100%|█████████▉| 404/405 [00:07<00:00, 53.50it/s]\n"
          ]
        },
        {
          "name": "stdout",
          "output_type": "stream",
          "text": [
            "[TRAIN] \tEpoch [7/30] \tLoss: 5.8680 \tLr: 0.001000\n",
            "[   72 24820 21959    79  1419 25821 13052  3909  1419  2118 31190 24567\n",
            " 32747  6085 26516  1419 31353 29478 22356 14658  1420 13710 22534  1512\n",
            " 25821 31353 26874 25821 29310  1794 16004 31293 21626    76  1424     1\n",
            " 25177  1311    76 31352 31353    76  2858  1417 23318   373     1 15111\n",
            " 31353    76    79 19085 23592    76 12959     1 25871 25821 22633  1423\n",
            " 31589  1419 22845 18261  1424 31353 32873 19623 31353 16077  1424 26375\n",
            " 31352 27417 32883 17135 31429    79 31994 31673 25525 22968 31353 13276\n",
            " 25821 31514  1424 14658  1417 11475 31994 29707 25821 26753 22968 33248\n",
            " 17731 32209 16672 24098 25410 31353 27904 28296 10120    79 31353  1417\n",
            " 15898    76 15340 15577  1420 14247 31205  1419 32883    79 19652   869\n",
            " 14118 25639 15310 15391 31353 29294  5172  8881]\n",
            "[VAL] \tEpoch [7/30] \tLoss: 5.3444\n",
            "Epoch:  7 NLL:  5.3443546 Best NLL:  5.427873\n",
            "Saving model, prediction probabilities and generated texts for epoch 7 with NLL: 5.3443546\n"
          ]
        },
        {
          "name": "stderr",
          "output_type": "stream",
          "text": [
            "100%|█████████▉| 404/405 [00:07<00:00, 53.67it/s]\n"
          ]
        },
        {
          "name": "stdout",
          "output_type": "stream",
          "text": [
            "[TRAIN] \tEpoch [8/30] \tLoss: 5.7752 \tLr: 0.001000\n",
            "[   72 24820 21959    79  1419 25821 13052  3909  1419  2118 31190 24567\n",
            " 32747  6085 26516  1419 31353 29478 22356 14658  1420 13710 22534  1512\n",
            " 25821 31353 26874 25821 29310  1794 16004 31293 21626    76  1424     1\n",
            " 25177  1311    76 31352 31353    76  2858  1417 23318   373     1 15111\n",
            " 31353    76    79 19085 23592    76 12959     1 25871 25821 22633  1423\n",
            " 31589  1419 22845 18261  1424 31353 32873 19623 31353 16077  1424 26375\n",
            " 31352 27417 32883 17135 31429    79 31994 31673 25525 22968 31353 13276\n",
            " 25821 31514  1424 14658  1417 11475 31994 29707 25821 26753 22968 33248\n",
            " 17731 32209 16672 24098 25410 31353 27904 28296 10120    79 31353  1417\n",
            " 15898    76 15340 15577  1420 14247 31205  1419 32883    79 19652   869\n",
            " 14118 25639 15310 15391 31353 29294  5172  8881]\n",
            "[VAL] \tEpoch [8/30] \tLoss: 5.2577\n",
            "Epoch:  8 NLL:  5.257718 Best NLL:  5.3443546\n",
            "Saving model, prediction probabilities and generated texts for epoch 8 with NLL: 5.257718\n"
          ]
        },
        {
          "name": "stderr",
          "output_type": "stream",
          "text": [
            "100%|█████████▉| 404/405 [00:07<00:00, 53.62it/s]\n"
          ]
        },
        {
          "name": "stdout",
          "output_type": "stream",
          "text": [
            "[TRAIN] \tEpoch [9/30] \tLoss: 5.6936 \tLr: 0.001000\n",
            "[   72 24820 21959    79  1419 25821 13052  3909  1419  2118 31190 24567\n",
            " 32747  6085 26516  1419 31353 29478 22356 14658  1420 13710 22534  1512\n",
            " 25821 31353 26874 25821 29310  1794 16004 31293 21626    76  1424     1\n",
            " 25177  1311    76 31352 31353    76  2858  1417 23318   373     1 15111\n",
            " 31353    76    79 19085 23592    76 12959     1 25871 25821 22633  1423\n",
            " 31589  1419 22845 18261  1424 31353 32873 19623 31353 16077  1424 26375\n",
            " 31352 27417 32883 17135 31429    79 31994 31673 25525 22968 31353 13276\n",
            " 25821 31514  1424 14658  1417 11475 31994 29707 25821 26753 22968 33248\n",
            " 17731 32209 16672 24098 25410 31353 27904 28296 10120    79 31353  1417\n",
            " 15898    76 15340 15577  1420 14247 31205  1419 32883    79 19652   869\n",
            " 14118 25639 15310 15391 31353 29294  5172  8881]\n",
            "[VAL] \tEpoch [9/30] \tLoss: 5.1956\n",
            "Epoch:  9 NLL:  5.195648 Best NLL:  5.257718\n",
            "Saving model, prediction probabilities and generated texts for epoch 9 with NLL: 5.195648\n"
          ]
        },
        {
          "name": "stderr",
          "output_type": "stream",
          "text": [
            "100%|█████████▉| 404/405 [00:07<00:00, 53.50it/s]\n"
          ]
        },
        {
          "name": "stdout",
          "output_type": "stream",
          "text": [
            "[TRAIN] \tEpoch [10/30] \tLoss: 5.6198 \tLr: 0.001000\n",
            "[   72 24820 21959    79  1419 25821 13052  3909  1419  2118 31190 24567\n",
            " 32747  6085 26516  1419 31353 29478 22356 14658  1420 13710 22534  1512\n",
            " 25821 31353 26874 25821 29310  1794 16004 31293 21626    76  1424     1\n",
            " 25177  1311    76 31352 31353    76  2858  1417 23318   373     1 15111\n",
            " 31353    76    79 19085 23592    76 12959     1 25871 25821 22633  1423\n",
            " 31589  1419 22845 18261  1424 31353 32873 19623 31353 16077  1424 26375\n",
            " 31352 27417 32883 17135 31429    79 31994 31673 25525 22968 31353 13276\n",
            " 25821 31514  1424 14658  1417 11475 31994 29707 25821 26753 22968 33248\n",
            " 17731 32209 16672 24098 25410 31353 27904 28296 10120    79 31353  1417\n",
            " 15898    76 15340 15577  1420 14247 31205  1419 32883    79 19652   869\n",
            " 14118 25639 15310 15391 31353 29294  5172  8881]\n",
            "[VAL] \tEpoch [10/30] \tLoss: 5.1375\n",
            "Epoch:  10 NLL:  5.137533 Best NLL:  5.195648\n",
            "Saving model, prediction probabilities and generated texts for epoch 10 with NLL: 5.137533\n"
          ]
        },
        {
          "name": "stderr",
          "output_type": "stream",
          "text": [
            "100%|█████████▉| 404/405 [00:07<00:00, 53.84it/s]\n"
          ]
        },
        {
          "name": "stdout",
          "output_type": "stream",
          "text": [
            "[TRAIN] \tEpoch [11/30] \tLoss: 5.5555 \tLr: 0.001000\n",
            "[   72 24820 21959    79  1419 25821 13052  3909  1419  2118 31190 24567\n",
            " 32747  6085 26516  1419 31353 29478 22356 14658  1420 13710 22534  1512\n",
            " 25821 31353 26874 25821 29310  1794 16004 31293 21626    76  1424     1\n",
            " 25177  1311    76 31352 31353    76  2858  1417 23318   373     1 15111\n",
            " 31353    76    79 19085 23592    76 12959     1 25871 25821 22633  1423\n",
            " 31589  1419 22845 18261  1424 31353 32873 19623 31353 16077  1424 26375\n",
            " 31352 27417 32883 17135 31429    79 31994 31673 25525 22968 31353 13276\n",
            " 25821 31514  1424 14658  1417 11475 31994 29707 25821 26753 22968 33248\n",
            " 17731 32209 16672 24098 25410 31353 27904 28296 10120    79 31353  1417\n",
            " 15898    76 15340 15577  1420 14247 31205  1419 32883    79 19652   869\n",
            " 14118 25639 15310 15391 31353 29294  5172  8881]\n",
            "[VAL] \tEpoch [11/30] \tLoss: 5.0529\n",
            "Epoch:  11 NLL:  5.0528774 Best NLL:  5.137533\n",
            "Saving model, prediction probabilities and generated texts for epoch 11 with NLL: 5.0528774\n"
          ]
        },
        {
          "name": "stderr",
          "output_type": "stream",
          "text": [
            "100%|█████████▉| 404/405 [00:07<00:00, 54.50it/s]\n"
          ]
        },
        {
          "name": "stdout",
          "output_type": "stream",
          "text": [
            "[TRAIN] \tEpoch [12/30] \tLoss: 5.4957 \tLr: 0.001000\n",
            "[   72 24820 21959    79  1419 25821 13052  3909  1419  2118 31190 24567\n",
            " 32747  6085 26516  1419 31353 29478 22356 14658  1420 13710 22534  1512\n",
            " 25821 31353 26874 25821 29310  1794 16004 31293 21626    76  1424     1\n",
            " 25177  1311    76 31352 31353    76  2858  1417 23318   373     1 15111\n",
            " 31353    76    79 19085 23592    76 12959     1 25871 25821 22633  1423\n",
            " 31589  1419 22845 18261  1424 31353 32873 19623 31353 16077  1424 26375\n",
            " 31352 27417 32883 17135 31429    79 31994 31673 25525 22968 31353 13276\n",
            " 25821 31514  1424 14658  1417 11475 31994 29707 25821 26753 22968 33248\n",
            " 17731 32209 16672 24098 25410 31353 27904 28296 10120    79 31353  1417\n",
            " 15898    76 15340 15577  1420 14247 31205  1419 32883    79 19652   869\n",
            " 14118 25639 15310 15391 31353 29294  5172  8881]\n",
            "[VAL] \tEpoch [12/30] \tLoss: 5.0400\n",
            "Epoch:  12 NLL:  5.040036 Best NLL:  5.0528774\n",
            "Saving model, prediction probabilities and generated texts for epoch 12 with NLL: 5.040036\n"
          ]
        },
        {
          "name": "stderr",
          "output_type": "stream",
          "text": [
            "100%|█████████▉| 404/405 [00:07<00:00, 54.38it/s]\n"
          ]
        },
        {
          "name": "stdout",
          "output_type": "stream",
          "text": [
            "[TRAIN] \tEpoch [13/30] \tLoss: 5.4383 \tLr: 0.001000\n",
            "[   72 24820 21959    79  1419 25821 13052  3909  1419  2118 31190 24567\n",
            " 32747  6085 26516  1419 31353 29478 22356 14658  1420 13710 22534  1512\n",
            " 25821 31353 26874 25821 29310  1794 16004 31293 21626    76  1424     1\n",
            " 25177  1311    76 31352 31353    76  2858  1417 23318   373     1 15111\n",
            " 31353    76    79 19085 23592    76 12959     1 25871 25821 22633  1423\n",
            " 31589  1419 22845 18261  1424 31353 32873 19623 31353 16077  1424 26375\n",
            " 31352 27417 32883 17135 31429    79 31994 31673 25525 22968 31353 13276\n",
            " 25821 31514  1424 14658  1417 11475 31994 29707 25821 26753 22968 33248\n",
            " 17731 32209 16672 24098 25410 31353 27904 28296 10120    79 31353  1417\n",
            " 15898    76 15340 15577  1420 14247 31205  1419 32883    79 19652   869\n",
            " 14118 25639 15310 15391 31353 29294  5172  8881]\n",
            "[VAL] \tEpoch [13/30] \tLoss: 4.9426\n",
            "Epoch:  13 NLL:  4.942569 Best NLL:  5.040036\n",
            "Saving model, prediction probabilities and generated texts for epoch 13 with NLL: 4.942569\n"
          ]
        },
        {
          "name": "stderr",
          "output_type": "stream",
          "text": [
            "100%|█████████▉| 404/405 [00:08<00:00, 50.46it/s]\n"
          ]
        },
        {
          "name": "stdout",
          "output_type": "stream",
          "text": [
            "[TRAIN] \tEpoch [14/30] \tLoss: 5.3837 \tLr: 0.001000\n",
            "[   72 24820 21959    79  1419 25821 13052  3909  1419  2118 31190 24567\n",
            " 32747  6085 26516  1419 31353 29478 22356 14658  1420 13710 22534  1512\n",
            " 25821 31353 26874 25821 29310  1794 16004 31293 21626    76  1424     1\n",
            " 25177  1311    76 31352 31353    76  2858  1417 23318   373     1 15111\n",
            " 31353    76    79 19085 23592    76 12959     1 25871 25821 22633  1423\n",
            " 31589  1419 22845 18261  1424 31353 32873 19623 31353 16077  1424 26375\n",
            " 31352 27417 32883 17135 31429    79 31994 31673 25525 22968 31353 13276\n",
            " 25821 31514  1424 14658  1417 11475 31994 29707 25821 26753 22968 33248\n",
            " 17731 32209 16672 24098 25410 31353 27904 28296 10120    79 31353  1417\n",
            " 15898    76 15340 15577  1420 14247 31205  1419 32883    79 19652   869\n",
            " 14118 25639 15310 15391 31353 29294  5172  8881]\n",
            "[VAL] \tEpoch [14/30] \tLoss: 4.9305\n",
            "Epoch:  14 NLL:  4.930463 Best NLL:  4.942569\n",
            "Saving model, prediction probabilities and generated texts for epoch 14 with NLL: 4.930463\n"
          ]
        },
        {
          "name": "stderr",
          "output_type": "stream",
          "text": [
            "100%|█████████▉| 404/405 [00:07<00:00, 52.37it/s]\n"
          ]
        },
        {
          "name": "stdout",
          "output_type": "stream",
          "text": [
            "[TRAIN] \tEpoch [15/30] \tLoss: 5.3343 \tLr: 0.001000\n",
            "[   72 24820 21959    79  1419 25821 13052  3909  1419  2118 31190 24567\n",
            " 32747  6085 26516  1419 31353 29478 22356 14658  1420 13710 22534  1512\n",
            " 25821 31353 26874 25821 29310  1794 16004 31293 21626    76  1424     1\n",
            " 25177  1311    76 31352 31353    76  2858  1417 23318   373     1 15111\n",
            " 31353    76    79 19085 23592    76 12959     1 25871 25821 22633  1423\n",
            " 31589  1419 22845 18261  1424 31353 32873 19623 31353 16077  1424 26375\n",
            " 31352 27417 32883 17135 31429    79 31994 31673 25525 22968 31353 13276\n",
            " 25821 31514  1424 14658  1417 11475 31994 29707 25821 26753 22968 33248\n",
            " 17731 32209 16672 24098 25410 31353 27904 28296 10120    79 31353  1417\n",
            " 15898    76 15340 15577  1420 14247 31205  1419 32883    79 19652   869\n",
            " 14118 25639 15310 15391 31353 29294  5172  8881]\n",
            "[VAL] \tEpoch [15/30] \tLoss: 4.9839\n",
            "Epoch:  15 NLL:  4.983934 Best NLL:  4.930463\n"
          ]
        },
        {
          "name": "stderr",
          "output_type": "stream",
          "text": [
            "100%|█████████▉| 404/405 [00:07<00:00, 53.19it/s]\n"
          ]
        },
        {
          "name": "stdout",
          "output_type": "stream",
          "text": [
            "[TRAIN] \tEpoch [16/30] \tLoss: 5.2877 \tLr: 0.001000\n",
            "[   72 24820 21959    79  1419 25821 13052  3909  1419  2118 31190 24567\n",
            " 32747  6085 26516  1419 31353 29478 22356 14658  1420 13710 22534  1512\n",
            " 25821 31353 26874 25821 29310  1794 16004 31293 21626    76  1424     1\n",
            " 25177  1311    76 31352 31353    76  2858  1417 23318   373     1 15111\n",
            " 31353    76    79 19085 23592    76 12959     1 25871 25821 22633  1423\n",
            " 31589  1419 22845 18261  1424 31353 32873 19623 31353 16077  1424 26375\n",
            " 31352 27417 32883 17135 31429    79 31994 31673 25525 22968 31353 13276\n",
            " 25821 31514  1424 14658  1417 11475 31994 29707 25821 26753 22968 33248\n",
            " 17731 32209 16672 24098 25410 31353 27904 28296 10120    79 31353  1417\n",
            " 15898    76 15340 15577  1420 14247 31205  1419 32883    79 19652   869\n",
            " 14118 25639 15310 15391 31353 29294  5172  8881]\n",
            "[VAL] \tEpoch [16/30] \tLoss: 4.8743\n",
            "Epoch:  16 NLL:  4.8743153 Best NLL:  4.930463\n",
            "Saving model, prediction probabilities and generated texts for epoch 16 with NLL: 4.8743153\n"
          ]
        },
        {
          "name": "stderr",
          "output_type": "stream",
          "text": [
            "100%|█████████▉| 404/405 [00:07<00:00, 52.68it/s]\n"
          ]
        },
        {
          "name": "stdout",
          "output_type": "stream",
          "text": [
            "[TRAIN] \tEpoch [17/30] \tLoss: 5.2436 \tLr: 0.001000\n",
            "[   72 24820 21959    79  1419 25821 13052  3909  1419  2118 31190 24567\n",
            " 32747  6085 26516  1419 31353 29478 22356 14658  1420 13710 22534  1512\n",
            " 25821 31353 26874 25821 29310  1794 16004 31293 21626    76  1424     1\n",
            " 25177  1311    76 31352 31353    76  2858  1417 23318   373     1 15111\n",
            " 31353    76    79 19085 23592    76 12959     1 25871 25821 22633  1423\n",
            " 31589  1419 22845 18261  1424 31353 32873 19623 31353 16077  1424 26375\n",
            " 31352 27417 32883 17135 31429    79 31994 31673 25525 22968 31353 13276\n",
            " 25821 31514  1424 14658  1417 11475 31994 29707 25821 26753 22968 33248\n",
            " 17731 32209 16672 24098 25410 31353 27904 28296 10120    79 31353  1417\n",
            " 15898    76 15340 15577  1420 14247 31205  1419 32883    79 19652   869\n",
            " 14118 25639 15310 15391 31353 29294  5172  8881]\n",
            "[VAL] \tEpoch [17/30] \tLoss: 4.8579\n",
            "Epoch:  17 NLL:  4.857854 Best NLL:  4.8743153\n",
            "Saving model, prediction probabilities and generated texts for epoch 17 with NLL: 4.857854\n"
          ]
        },
        {
          "name": "stderr",
          "output_type": "stream",
          "text": [
            "100%|█████████▉| 404/405 [00:07<00:00, 54.08it/s]\n"
          ]
        },
        {
          "name": "stdout",
          "output_type": "stream",
          "text": [
            "[TRAIN] \tEpoch [18/30] \tLoss: 5.1994 \tLr: 0.001000\n",
            "[   72 24820 21959    79  1419 25821 13052  3909  1419  2118 31190 24567\n",
            " 32747  6085 26516  1419 31353 29478 22356 14658  1420 13710 22534  1512\n",
            " 25821 31353 26874 25821 29310  1794 16004 31293 21626    76  1424     1\n",
            " 25177  1311    76 31352 31353    76  2858  1417 23318   373     1 15111\n",
            " 31353    76    79 19085 23592    76 12959     1 25871 25821 22633  1423\n",
            " 31589  1419 22845 18261  1424 31353 32873 19623 31353 16077  1424 26375\n",
            " 31352 27417 32883 17135 31429    79 31994 31673 25525 22968 31353 13276\n",
            " 25821 31514  1424 14658  1417 11475 31994 29707 25821 26753 22968 33248\n",
            " 17731 32209 16672 24098 25410 31353 27904 28296 10120    79 31353  1417\n",
            " 15898    76 15340 15577  1420 14247 31205  1419 32883    79 19652   869\n",
            " 14118 25639 15310 15391 31353 29294  5172  8881]\n",
            "[VAL] \tEpoch [18/30] \tLoss: 4.7638\n",
            "Epoch:  18 NLL:  4.7637873 Best NLL:  4.857854\n",
            "Saving model, prediction probabilities and generated texts for epoch 18 with NLL: 4.7637873\n"
          ]
        },
        {
          "name": "stderr",
          "output_type": "stream",
          "text": [
            "100%|█████████▉| 404/405 [00:07<00:00, 54.42it/s]\n"
          ]
        },
        {
          "name": "stdout",
          "output_type": "stream",
          "text": [
            "[TRAIN] \tEpoch [19/30] \tLoss: 5.1602 \tLr: 0.001000\n",
            "[   72 24820 21959    79  1419 25821 13052  3909  1419  2118 31190 24567\n",
            " 32747  6085 26516  1419 31353 29478 22356 14658  1420 13710 22534  1512\n",
            " 25821 31353 26874 25821 29310  1794 16004 31293 21626    76  1424     1\n",
            " 25177  1311    76 31352 31353    76  2858  1417 23318   373     1 15111\n",
            " 31353    76    79 19085 23592    76 12959     1 25871 25821 22633  1423\n",
            " 31589  1419 22845 18261  1424 31353 32873 19623 31353 16077  1424 26375\n",
            " 31352 27417 32883 17135 31429    79 31994 31673 25525 22968 31353 13276\n",
            " 25821 31514  1424 14658  1417 11475 31994 29707 25821 26753 22968 33248\n",
            " 17731 32209 16672 24098 25410 31353 27904 28296 10120    79 31353  1417\n",
            " 15898    76 15340 15577  1420 14247 31205  1419 32883    79 19652   869\n",
            " 14118 25639 15310 15391 31353 29294  5172  8881]\n",
            "[VAL] \tEpoch [19/30] \tLoss: 4.7837\n",
            "Epoch:  19 NLL:  4.783743 Best NLL:  4.7637873\n"
          ]
        },
        {
          "name": "stderr",
          "output_type": "stream",
          "text": [
            "100%|█████████▉| 404/405 [00:07<00:00, 53.21it/s]\n"
          ]
        },
        {
          "name": "stdout",
          "output_type": "stream",
          "text": [
            "[TRAIN] \tEpoch [20/30] \tLoss: 5.1217 \tLr: 0.001000\n",
            "[   72 24820 21959    79  1419 25821 13052  3909  1419  2118 31190 24567\n",
            " 32747  6085 26516  1419 31353 29478 22356 14658  1420 13710 22534  1512\n",
            " 25821 31353 26874 25821 29310  1794 16004 31293 21626    76  1424     1\n",
            " 25177  1311    76 31352 31353    76  2858  1417 23318   373     1 15111\n",
            " 31353    76    79 19085 23592    76 12959     1 25871 25821 22633  1423\n",
            " 31589  1419 22845 18261  1424 31353 32873 19623 31353 16077  1424 26375\n",
            " 31352 27417 32883 17135 31429    79 31994 31673 25525 22968 31353 13276\n",
            " 25821 31514  1424 14658  1417 11475 31994 29707 25821 26753 22968 33248\n",
            " 17731 32209 16672 24098 25410 31353 27904 28296 10120    79 31353  1417\n",
            " 15898    76 15340 15577  1420 14247 31205  1419 32883    79 19652   869\n",
            " 14118 25639 15310 15391 31353 29294  5172  8881]\n",
            "[VAL] \tEpoch [20/30] \tLoss: 4.8007\n",
            "Epoch:  20 NLL:  4.8007393 Best NLL:  4.7637873\n"
          ]
        },
        {
          "name": "stderr",
          "output_type": "stream",
          "text": [
            "100%|█████████▉| 404/405 [00:07<00:00, 51.79it/s]\n"
          ]
        },
        {
          "name": "stdout",
          "output_type": "stream",
          "text": [
            "[TRAIN] \tEpoch [21/30] \tLoss: 5.0846 \tLr: 0.001000\n",
            "[   72 24820 21959    79  1419 25821 13052  3909  1419  2118 31190 24567\n",
            " 32747  6085 26516  1419 31353 29478 22356 14658  1420 13710 22534  1512\n",
            " 25821 31353 26874 25821 29310  1794 16004 31293 21626    76  1424     1\n",
            " 25177  1311    76 31352 31353    76  2858  1417 23318   373     1 15111\n",
            " 31353    76    79 19085 23592    76 12959     1 25871 25821 22633  1423\n",
            " 31589  1419 22845 18261  1424 31353 32873 19623 31353 16077  1424 26375\n",
            " 31352 27417 32883 17135 31429    79 31994 31673 25525 22968 31353 13276\n",
            " 25821 31514  1424 14658  1417 11475 31994 29707 25821 26753 22968 33248\n",
            " 17731 32209 16672 24098 25410 31353 27904 28296 10120    79 31353  1417\n",
            " 15898    76 15340 15577  1420 14247 31205  1419 32883    79 19652   869\n",
            " 14118 25639 15310 15391 31353 29294  5172  8881]\n",
            "[VAL] \tEpoch [21/30] \tLoss: 4.7666\n",
            "Epoch:  21 NLL:  4.7665977 Best NLL:  4.7637873\n"
          ]
        },
        {
          "name": "stderr",
          "output_type": "stream",
          "text": [
            "100%|█████████▉| 404/405 [00:07<00:00, 52.77it/s]\n"
          ]
        },
        {
          "name": "stdout",
          "output_type": "stream",
          "text": [
            "[TRAIN] \tEpoch [22/30] \tLoss: 5.0492 \tLr: 0.001000\n",
            "[   72 24820 21959    79  1419 25821 13052  3909  1419  2118 31190 24567\n",
            " 32747  6085 26516  1419 31353 29478 22356 14658  1420 13710 22534  1512\n",
            " 25821 31353 26874 25821 29310  1794 16004 31293 21626    76  1424     1\n",
            " 25177  1311    76 31352 31353    76  2858  1417 23318   373     1 15111\n",
            " 31353    76    79 19085 23592    76 12959     1 25871 25821 22633  1423\n",
            " 31589  1419 22845 18261  1424 31353 32873 19623 31353 16077  1424 26375\n",
            " 31352 27417 32883 17135 31429    79 31994 31673 25525 22968 31353 13276\n",
            " 25821 31514  1424 14658  1417 11475 31994 29707 25821 26753 22968 33248\n",
            " 17731 32209 16672 24098 25410 31353 27904 28296 10120    79 31353  1417\n",
            " 15898    76 15340 15577  1420 14247 31205  1419 32883    79 19652   869\n",
            " 14118 25639 15310 15391 31353 29294  5172  8881]\n",
            "[VAL] \tEpoch [22/30] \tLoss: 4.7980\n",
            "Epoch:  22 NLL:  4.7979765 Best NLL:  4.7637873\n",
            "Epoch 00022: reducing learning rate of group 0 to 2.0000e-04.\n"
          ]
        },
        {
          "name": "stderr",
          "output_type": "stream",
          "text": [
            "100%|█████████▉| 404/405 [00:07<00:00, 53.03it/s]\n"
          ]
        },
        {
          "name": "stdout",
          "output_type": "stream",
          "text": [
            "[TRAIN] \tEpoch [23/30] \tLoss: 4.9643 \tLr: 0.000200\n",
            "[   72 24820 21959    79  1419 25821 13052  3909  1419  2118 31190 24567\n",
            " 32747  6085 26516  1419 31353 29478 22356 14658  1420 13710 22534  1512\n",
            " 25821 31353 26874 25821 29310  1794 16004 31293 21626    76  1424     1\n",
            " 25177  1311    76 31352 31353    76  2858  1417 23318   373     1 15111\n",
            " 31353    76    79 19085 23592    76 12959     1 25871 25821 22633  1423\n",
            " 31589  1419 22845 18261  1424 31353 32873 19623 31353 16077  1424 26375\n",
            " 31352 27417 32883 17135 31429    79 31994 31673 25525 22968 31353 13276\n",
            " 25821 31514  1424 14658  1417 11475 31994 29707 25821 26753 22968 33248\n",
            " 17731 32209 16672 24098 25410 31353 27904 28296 10120    79 31353  1417\n",
            " 15898    76 15340 15577  1420 14247 31205  1419 32883    79 19652   869\n",
            " 14118 25639 15310 15391 31353 29294  5172  8881]\n",
            "[VAL] \tEpoch [23/30] \tLoss: 4.7358\n",
            "Epoch:  23 NLL:  4.7358265 Best NLL:  4.7637873\n",
            "Saving model, prediction probabilities and generated texts for epoch 23 with NLL: 4.7358265\n"
          ]
        },
        {
          "name": "stderr",
          "output_type": "stream",
          "text": [
            "100%|█████████▉| 404/405 [00:07<00:00, 52.96it/s]\n"
          ]
        },
        {
          "name": "stdout",
          "output_type": "stream",
          "text": [
            "[TRAIN] \tEpoch [24/30] \tLoss: 4.9516 \tLr: 0.000200\n",
            "[   72 24820 21959    79  1419 25821 13052  3909  1419  2118 31190 24567\n",
            " 32747  6085 26516  1419 31353 29478 22356 14658  1420 13710 22534  1512\n",
            " 25821 31353 26874 25821 29310  1794 16004 31293 21626    76  1424     1\n",
            " 25177  1311    76 31352 31353    76  2858  1417 23318   373     1 15111\n",
            " 31353    76    79 19085 23592    76 12959     1 25871 25821 22633  1423\n",
            " 31589  1419 22845 18261  1424 31353 32873 19623 31353 16077  1424 26375\n",
            " 31352 27417 32883 17135 31429    79 31994 31673 25525 22968 31353 13276\n",
            " 25821 31514  1424 14658  1417 11475 31994 29707 25821 26753 22968 33248\n",
            " 17731 32209 16672 24098 25410 31353 27904 28296 10120    79 31353  1417\n",
            " 15898    76 15340 15577  1420 14247 31205  1419 32883    79 19652   869\n",
            " 14118 25639 15310 15391 31353 29294  5172  8881]\n",
            "[VAL] \tEpoch [24/30] \tLoss: 4.7468\n",
            "Epoch:  24 NLL:  4.7468147 Best NLL:  4.7358265\n"
          ]
        },
        {
          "name": "stderr",
          "output_type": "stream",
          "text": [
            "100%|█████████▉| 404/405 [00:07<00:00, 52.66it/s]\n"
          ]
        },
        {
          "name": "stdout",
          "output_type": "stream",
          "text": [
            "[TRAIN] \tEpoch [25/30] \tLoss: 4.9425 \tLr: 0.000200\n",
            "[   72 24820 21959    79  1419 25821 13052  3909  1419  2118 31190 24567\n",
            " 32747  6085 26516  1419 31353 29478 22356 14658  1420 13710 22534  1512\n",
            " 25821 31353 26874 25821 29310  1794 16004 31293 21626    76  1424     1\n",
            " 25177  1311    76 31352 31353    76  2858  1417 23318   373     1 15111\n",
            " 31353    76    79 19085 23592    76 12959     1 25871 25821 22633  1423\n",
            " 31589  1419 22845 18261  1424 31353 32873 19623 31353 16077  1424 26375\n",
            " 31352 27417 32883 17135 31429    79 31994 31673 25525 22968 31353 13276\n",
            " 25821 31514  1424 14658  1417 11475 31994 29707 25821 26753 22968 33248\n",
            " 17731 32209 16672 24098 25410 31353 27904 28296 10120    79 31353  1417\n",
            " 15898    76 15340 15577  1420 14247 31205  1419 32883    79 19652   869\n",
            " 14118 25639 15310 15391 31353 29294  5172  8881]\n",
            "[VAL] \tEpoch [25/30] \tLoss: 4.7456\n",
            "Epoch:  25 NLL:  4.74562 Best NLL:  4.7358265\n"
          ]
        },
        {
          "name": "stderr",
          "output_type": "stream",
          "text": [
            "100%|█████████▉| 404/405 [00:07<00:00, 54.51it/s]\n"
          ]
        },
        {
          "name": "stdout",
          "output_type": "stream",
          "text": [
            "[TRAIN] \tEpoch [26/30] \tLoss: 4.9349 \tLr: 0.000200\n",
            "[   72 24820 21959    79  1419 25821 13052  3909  1419  2118 31190 24567\n",
            " 32747  6085 26516  1419 31353 29478 22356 14658  1420 13710 22534  1512\n",
            " 25821 31353 26874 25821 29310  1794 16004 31293 21626    76  1424     1\n",
            " 25177  1311    76 31352 31353    76  2858  1417 23318   373     1 15111\n",
            " 31353    76    79 19085 23592    76 12959     1 25871 25821 22633  1423\n",
            " 31589  1419 22845 18261  1424 31353 32873 19623 31353 16077  1424 26375\n",
            " 31352 27417 32883 17135 31429    79 31994 31673 25525 22968 31353 13276\n",
            " 25821 31514  1424 14658  1417 11475 31994 29707 25821 26753 22968 33248\n",
            " 17731 32209 16672 24098 25410 31353 27904 28296 10120    79 31353  1417\n",
            " 15898    76 15340 15577  1420 14247 31205  1419 32883    79 19652   869\n",
            " 14118 25639 15310 15391 31353 29294  5172  8881]\n",
            "[VAL] \tEpoch [26/30] \tLoss: 4.7256\n",
            "Epoch:  26 NLL:  4.725598 Best NLL:  4.7358265\n",
            "Saving model, prediction probabilities and generated texts for epoch 26 with NLL: 4.725598\n"
          ]
        },
        {
          "name": "stderr",
          "output_type": "stream",
          "text": [
            "100%|█████████▉| 404/405 [00:07<00:00, 54.63it/s]\n"
          ]
        },
        {
          "name": "stdout",
          "output_type": "stream",
          "text": [
            "[TRAIN] \tEpoch [27/30] \tLoss: 4.9287 \tLr: 0.000200\n",
            "[   72 24820 21959    79  1419 25821 13052  3909  1419  2118 31190 24567\n",
            " 32747  6085 26516  1419 31353 29478 22356 14658  1420 13710 22534  1512\n",
            " 25821 31353 26874 25821 29310  1794 16004 31293 21626    76  1424     1\n",
            " 25177  1311    76 31352 31353    76  2858  1417 23318   373     1 15111\n",
            " 31353    76    79 19085 23592    76 12959     1 25871 25821 22633  1423\n",
            " 31589  1419 22845 18261  1424 31353 32873 19623 31353 16077  1424 26375\n",
            " 31352 27417 32883 17135 31429    79 31994 31673 25525 22968 31353 13276\n",
            " 25821 31514  1424 14658  1417 11475 31994 29707 25821 26753 22968 33248\n",
            " 17731 32209 16672 24098 25410 31353 27904 28296 10120    79 31353  1417\n",
            " 15898    76 15340 15577  1420 14247 31205  1419 32883    79 19652   869\n",
            " 14118 25639 15310 15391 31353 29294  5172  8881]\n",
            "[VAL] \tEpoch [27/30] \tLoss: 4.7263\n",
            "Epoch:  27 NLL:  4.726281 Best NLL:  4.725598\n"
          ]
        },
        {
          "name": "stderr",
          "output_type": "stream",
          "text": [
            "100%|█████████▉| 404/405 [00:07<00:00, 54.61it/s]\n"
          ]
        },
        {
          "name": "stdout",
          "output_type": "stream",
          "text": [
            "[TRAIN] \tEpoch [28/30] \tLoss: 4.9209 \tLr: 0.000200\n",
            "[   72 24820 21959    79  1419 25821 13052  3909  1419  2118 31190 24567\n",
            " 32747  6085 26516  1419 31353 29478 22356 14658  1420 13710 22534  1512\n",
            " 25821 31353 26874 25821 29310  1794 16004 31293 21626    76  1424     1\n",
            " 25177  1311    76 31352 31353    76  2858  1417 23318   373     1 15111\n",
            " 31353    76    79 19085 23592    76 12959     1 25871 25821 22633  1423\n",
            " 31589  1419 22845 18261  1424 31353 32873 19623 31353 16077  1424 26375\n",
            " 31352 27417 32883 17135 31429    79 31994 31673 25525 22968 31353 13276\n",
            " 25821 31514  1424 14658  1417 11475 31994 29707 25821 26753 22968 33248\n",
            " 17731 32209 16672 24098 25410 31353 27904 28296 10120    79 31353  1417\n",
            " 15898    76 15340 15577  1420 14247 31205  1419 32883    79 19652   869\n",
            " 14118 25639 15310 15391 31353 29294  5172  8881]\n",
            "[VAL] \tEpoch [28/30] \tLoss: 4.7760\n",
            "Epoch:  28 NLL:  4.775977 Best NLL:  4.725598\n"
          ]
        },
        {
          "name": "stderr",
          "output_type": "stream",
          "text": [
            "100%|█████████▉| 404/405 [00:07<00:00, 54.59it/s]\n"
          ]
        },
        {
          "name": "stdout",
          "output_type": "stream",
          "text": [
            "[TRAIN] \tEpoch [29/30] \tLoss: 4.9137 \tLr: 0.000200\n",
            "[   72 24820 21959    79  1419 25821 13052  3909  1419  2118 31190 24567\n",
            " 32747  6085 26516  1419 31353 29478 22356 14658  1420 13710 22534  1512\n",
            " 25821 31353 26874 25821 29310  1794 16004 31293 21626    76  1424     1\n",
            " 25177  1311    76 31352 31353    76  2858  1417 23318   373     1 15111\n",
            " 31353    76    79 19085 23592    76 12959     1 25871 25821 22633  1423\n",
            " 31589  1419 22845 18261  1424 31353 32873 19623 31353 16077  1424 26375\n",
            " 31352 27417 32883 17135 31429    79 31994 31673 25525 22968 31353 13276\n",
            " 25821 31514  1424 14658  1417 11475 31994 29707 25821 26753 22968 33248\n",
            " 17731 32209 16672 24098 25410 31353 27904 28296 10120    79 31353  1417\n",
            " 15898    76 15340 15577  1420 14247 31205  1419 32883    79 19652   869\n",
            " 14118 25639 15310 15391 31353 29294  5172  8881]\n",
            "[VAL] \tEpoch [29/30] \tLoss: 4.7604\n",
            "Epoch:  29 NLL:  4.760352 Best NLL:  4.725598\n"
          ]
        },
        {
          "name": "stderr",
          "output_type": "stream",
          "text": [
            "100%|█████████▉| 404/405 [00:07<00:00, 54.40it/s]\n"
          ]
        },
        {
          "name": "stdout",
          "output_type": "stream",
          "text": [
            "[TRAIN] \tEpoch [30/30] \tLoss: 4.9068 \tLr: 0.000200\n",
            "[   72 24820 21959    79  1419 25821 13052  3909  1419  2118 31190 24567\n",
            " 32747  6085 26516  1419 31353 29478 22356 14658  1420 13710 22534  1512\n",
            " 25821 31353 26874 25821 29310  1794 16004 31293 21626    76  1424     1\n",
            " 25177  1311    76 31352 31353    76  2858  1417 23318   373     1 15111\n",
            " 31353    76    79 19085 23592    76 12959     1 25871 25821 22633  1423\n",
            " 31589  1419 22845 18261  1424 31353 32873 19623 31353 16077  1424 26375\n",
            " 31352 27417 32883 17135 31429    79 31994 31673 25525 22968 31353 13276\n",
            " 25821 31514  1424 14658  1417 11475 31994 29707 25821 26753 22968 33248\n",
            " 17731 32209 16672 24098 25410 31353 27904 28296 10120    79 31353  1417\n",
            " 15898    76 15340 15577  1420 14247 31205  1419 32883    79 19652   869\n",
            " 14118 25639 15310 15391 31353 29294  5172  8881]\n",
            "[VAL] \tEpoch [30/30] \tLoss: 4.7307\n",
            "Epoch:  30 NLL:  4.730708 Best NLL:  4.725598\n",
            "Epoch 00030: reducing learning rate of group 0 to 4.0000e-05.\n"
          ]
        }
      ],
      "source": [
        "# Run the experiments loop.\n",
        "# Each epoch wont take more than 2-3min. If its taking more time, it might be due to (but not limited to) the following:\n",
        "#   * You might be overlapping batches\n",
        "#       Eg. Input: \"I had biryani for lunch today\" and sequence length = 3,\n",
        "#           --> \"I had biryani\", \"for lunch today\" are ideal examples for inputs\n",
        "#           --> \"I had biryani\", \"had biryani for\", \"biryani for lunch\", ... is just redundant info :')\n",
        "#   * Your length calculation in the dataloader might be wrong\n",
        "# If you haven't had biryani, try it :D\n",
        "\n",
        "# wandb.watch(model, log=\"all\")\n",
        "\n",
        "torch.cuda.empty_cache()\n",
        "gc.collect()\n",
        "\n",
        "# %%time\n",
        "best_nll = 1e30\n",
        "for epoch in range(config['num_epochs']):\n",
        "    train_loss, curr_lr = trainer.train()\n",
        "    nll = trainer.test()\n",
        "    print(\"Epoch: \", epoch+1, \"NLL: \", nll, \"Best NLL: \", best_nll)\n",
        "    scheduler.step(nll)\n",
        "    if nll < best_nll:\n",
        "        best_nll = nll\n",
        "        print(\"Saving model, prediction probabilities and generated texts for epoch \"+str(epoch+1)+\" with NLL: \"+ str(best_nll))\n",
        "        trainer.save()\n",
        "\n",
        "    # wandb.log({\"train_loss\":train_loss,\n",
        "    #            \"nll\": nll,\n",
        "    #            \"learning_rate\": curr_lr\n",
        "    #           })\n",
        "\n",
        "### Finish your wandb run\n",
        "# run.finish()"
      ]
    },
    {
      "cell_type": "code",
      "execution_count": 21,
      "metadata": {
        "id": "5Oq8tLAo7jF_"
      },
      "outputs": [
        {
          "data": {
            "text/plain": [
              "451"
            ]
          },
          "execution_count": 21,
          "metadata": {},
          "output_type": "execute_result"
        }
      ],
      "source": [
        "torch.cuda.empty_cache()\n",
        "gc.collect()"
      ]
    },
    {
      "cell_type": "code",
      "execution_count": 22,
      "metadata": {
        "id": "i_gYqXq9Jgo1"
      },
      "outputs": [
        {
          "data": {
            "image/png": "[encoded data removed]",
            "text/plain": [
              "<Figure size 640x480 with 1 Axes>"
            ]
          },
          "metadata": {},
          "output_type": "display_data"
        }
      ],
      "source": [
        "plt.figure()\n",
        "plt.plot(range(1, trainer.epochs + 1), trainer.train_losses, label='Training losses')\n",
        "plt.plot(range(1, trainer.epochs + 1), trainer.val_losses, label='Validation losses')\n",
        "plt.xlabel('Epochs')\n",
        "plt.ylabel('NLL')\n",
        "plt.legend()\n",
        "plt.show()"
      ]
    },
    {
      "cell_type": "markdown",
      "metadata": {
        "id": "vleoDhQe7jF_"
      },
      "source": [
        "# **Evaluation**"
      ]
    },
    {
      "cell_type": "markdown",
      "metadata": {
        "id": "BbDQm49BKrdd"
      },
      "source": [
        " - Now that you have trained your model and got satisfactory validation NLL on the single token prediction task, you can evaluate the generations you created too\n",
        " - We will use the perplexity metric to evaluate generations using a large language model available through the OpenAI API. Read the handout for instructions on how to sign up for the API and obtain and API key.\n",
        " - Once you add credits to your account, run this cell to get the perplexity.\n",
        " - You will submit this perplexity value for grading the generation component of this homework.\n",
        " - A perplexity of under **1400** will give you full credit on the generation part."
      ]
    },
    {
      "cell_type": "markdown",
      "metadata": {
        "id": "PvVGQNzUL3IK"
      },
      "source": [
        "Change only the **submission_run_id**, **submission_epoch**, and **api_key** in the following cell"
      ]
    },
    {
      "cell_type": "code",
      "execution_count": 26,
      "metadata": {
        "id": "qqJ9lf7W7jF_"
      },
      "outputs": [
        {
          "name": "stderr",
          "output_type": "stream",
          "text": [
            "  0%|          | 0/128 [00:00<?, ?it/s]"
          ]
        },
        {
          "name": "stderr",
          "output_type": "stream",
          "text": [
            "100%|██████████| 128/128 [00:36<00:00,  3.51it/s]"
          ]
        },
        {
          "name": "stdout",
          "output_type": "stream",
          "text": [
            "Your mean perplexity for generated sequences: 445.90097113231025\n"
          ]
        },
        {
          "name": "stderr",
          "output_type": "stream",
          "text": [
            "\n"
          ]
        }
      ],
      "source": [
        "# DO NOT CHANGE THE CODE IN THIS CELL EXCEPT submission_run_id, submission_epoch, AND api_key\n",
        "# PLEASE BE HONEST IN REPORTING THE PERPLEXITY VALUE!\n",
        "# WE WILL RANDOMLY CHECK SOME SUBMISSIONS USING THE SAME CODE AS THIS AND A BIG DIFFERENCE IN PERPLEXITY WILL RESULT IN AN AIV.\n",
        "\n",
        "import openai\n",
        "import json\n",
        "\n",
        "openai.api_key = json.load(open(\"../../../safestore.json\")).get(\"openai_api_key\")\n",
        "\n",
        "\n",
        "# Add you submission_run_id and submission_epoch here --------------------------------------------------\n",
        "# Fill the run id and epoch number to be used for submission.\n",
        "# You will use the same run id and epoch number to generate the handin.\n",
        "\n",
        "submission_run_id = run_id # TODO\n",
        "submission_epoch = 26 # TODO\n",
        "\n",
        "# --------------------------------------------------------------\n",
        "\n",
        "n_tests = 128\n",
        "\n",
        "with open(os.path.join('./experiments', submission_run_id, 'generated-texts-{}-test.txt'.format(submission_epoch)), 'r', encoding='utf-8') as f:\n",
        "    generated = list(f)\n",
        "\n",
        "assert len(generated) == n_tests\n",
        "for item in generated:\n",
        "    assert type(item) is str\n",
        "\n",
        "parsed_generated = []\n",
        "\n",
        "for text in generated:\n",
        "    start_index = text.index(\"<sos>\")\n",
        "    temp = text[start_index+6:]\n",
        "    generation_start_index = temp.index(\"| \")\n",
        "    parsed_text = temp[:generation_start_index] + temp[generation_start_index+2:]\n",
        "    parsed_text = parsed_text.replace(\"<eol>\", \"\\n\")\n",
        "    parsed_generated.append(parsed_text)\n",
        "\n",
        "def perplexity(text, modelname):\n",
        "    \"\"\"Compute the perplexity of the provided text.\"\"\"\n",
        "    completion = openai.Completion.create(\n",
        "        model=modelname,\n",
        "        prompt=text,\n",
        "        logprobs=0,\n",
        "        max_tokens=0,\n",
        "        temperature=1.0,\n",
        "        echo=True)\n",
        "    token_logprobs = completion['choices'][0]['logprobs']['token_logprobs']\n",
        "    ll = np.mean([i for i in token_logprobs if i is not None])\n",
        "    ppl = np.exp(-ll)\n",
        "    return ppl\n",
        "\n",
        "# Add you API key here --------------------------------------------------\n",
        "# However, delete the key from the notebook before creating the handin.\n",
        "# REMEMBER: ALWAYS KEEP YOUR API KEYS AND SECRETS SECURE.\n",
        "\n",
        "# --------------------------------------------------------------\n",
        "\n",
        "modelname = 'text-embedding-ada-002'\n",
        "\n",
        "perps = [perplexity(text, modelname) for text in tqdm(parsed_generated)]\n",
        "avg_perp = np.mean(perps)\n",
        "\n",
        "# Report this number when running the makefile to create the handin\n",
        "print(\"Your mean perplexity for generated sequences: {}\".format(avg_perp))"
      ]
    },
    {
      "cell_type": "code",
      "execution_count": null,
      "metadata": {},
      "outputs": [],
      "source": []
    },
    {
      "cell_type": "markdown",
      "metadata": {
        "id": "-g3iGbFGXjC3"
      },
      "source": [
        "**NOTE**:\n",
        "- If you get a \"The server is overloaded or not ready yet\" when trying to run the above cell, simply try re-running after some time.\n",
        "- You will need to add credits ($5) to your open-ai account to get rid of the limit error."
      ]
    },
    {
      "cell_type": "markdown",
      "metadata": {
        "id": "BBqjqy-EyU27"
      },
      "source": [
        "# **Submission**\n",
        "Navigate to the handout directory to run the below cell. This command will create the handin with all the required files (including attention.py). So make sure you have the entire handout directory wherever you are running this notebook (local machine, Colab, AWS, etc.).\n",
        "\n",
        "**IMPORTANT NOTE:** This command requires that this c**ompleted notebook be in the hw4 folder inside the handout directory**. If you are on colab, this notebook you are working on **DOES NOT** live in the handout directory. You must **download it and then upload it** to the hw4 folder replacing the empty starter notebook."
      ]
    },
    {
      "cell_type": "code",
      "execution_count": 28,
      "metadata": {
        "id": "hWRyPvWmgLQs"
      },
      "outputs": [
        {
          "name": "stdout",
          "output_type": "stream",
          "text": [
            "echo 445.90097113231025 > generation_ppl.txt\n",
            "cp hw4/experiments/1713235126/prediction-probs-test-26.npy prediction_probs.npy\n",
            "cp hw4/experiments/1713235126/generated-texts-26-test.txt generated_texts.txt\n",
            "cp hw4/hw4p1.ipynb training.ipynb\n",
            "cp hw4/attention.py attention.py\n",
            "tar -cvzf handin.tar training.ipynb prediction_probs.npy generated_texts.txt generation_ppl.txt attention.py\n",
            "training.ipynb\n",
            "prediction_probs.npy\n",
            "generated_texts.txt\n",
            "generation_ppl.txt\n",
            "attention.py\n",
            "rm -f generated_texts.txt prediction_probs.npy training.ipynb generation_ppl.txt attention.py\n"
          ]
        }
      ],
      "source": [
        "# TODO: Generate the handin to submit to autolab\n",
        "\n",
        "# For example:\n",
        "# !make runid=1705009752 epoch=9 ppl=1287.0752467922216\n",
        "\n",
        "!cd .. && make runid=1713235126 epoch=26 ppl=445.90097113231025"
      ]
    },
    {
      "cell_type": "code",
      "execution_count": null,
      "metadata": {
        "id": "THcllS3fnFR3"
      },
      "outputs": [],
      "source": []
    }
  ],
  "metadata": {
    "colab": {
      "collapsed_sections": [
        "EB2bOV3bzYLR",
        "WcWU0YlnzmVM",
        "DelhoytAQWQa",
        "TlWF_bpLznup",
        "Dfrf1FoSoAI0",
        "0fcxKXL0hrxX",
        "vleoDhQe7jF_",
        "BBqjqy-EyU27"
      ],
      "machine_shape": "hm",
      "provenance": [],
      "toc_visible": true
    },
    "deepnote": {},
    "deepnote_execution_queue": [],
    "deepnote_notebook_id": "989a3c3836794109ac641230122845a3",
    "gpuClass": "standard",
    "kernelspec": {
      "display_name": "Python 3 (ipykernel)",
      "language": "python",
      "name": "python3"
    },
    "language_info": {
      "codemirror_mode": {
        "name": "ipython",
        "version": 3
      },
      "file_extension": ".py",
      "mimetype": "text/x-python",
      "name": "python",
      "nbconvert_exporter": "python",
      "pygments_lexer": "ipython3",
      "version": "3.11.5"
    }
  },
  "nbformat": 4,
  "nbformat_minor": 0
}
